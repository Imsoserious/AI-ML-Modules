{
 "cells": [
  {
   "cell_type": "code",
   "execution_count": 1,
   "metadata": {},
   "outputs": [
    {
     "name": "stderr",
     "output_type": "stream",
     "text": [
      "C:\\ProgramData\\Anaconda3\\envs\\jy3.6\\lib\\site-packages\\sklearn\\externals\\six.py:31: DeprecationWarning: The module is deprecated in version 0.21 and will be removed in version 0.23 since we've dropped support for Python 2.7. Please rely on the official version of six (https://pypi.org/project/six/).\n",
      "  \"(https://pypi.org/project/six/).\", DeprecationWarning)\n",
      "C:\\ProgramData\\Anaconda3\\envs\\jy3.6\\lib\\site-packages\\sklearn\\externals\\joblib\\__init__.py:15: DeprecationWarning: sklearn.externals.joblib is deprecated in 0.21 and will be removed in 0.23. Please import this functionality directly from joblib, which can be installed with: pip install joblib. If this warning is raised when loading pickled models, you may need to re-serialize those models with scikit-learn 0.21+.\n",
      "  warnings.warn(msg, category=DeprecationWarning)\n"
     ]
    }
   ],
   "source": [
    "import numpy as np\n",
    "from IPython.display import display\n",
    "import matplotlib.pyplot as plt\n",
    "import matplotlib as mpl\n",
    "import pandas as pd\n",
    "import mglearn\n",
    "%matplotlib inline\n"
   ]
  },
  {
   "cell_type": "code",
   "execution_count": 4,
   "metadata": {},
   "outputs": [],
   "source": [
    "wk = np.load('data_ch9.npz')\n",
    "X = wk['X']\n",
    "X_range0 = wk['X_range0']\n",
    "X_range1 = wk['X_range1']"
   ]
  },
  {
   "cell_type": "code",
   "execution_count": 5,
   "metadata": {},
   "outputs": [],
   "source": [
    "#가우스 함수\n",
    "def gauss(x,mu,sigma):\n",
    "    N,D = x.shape\n",
    "    c1 = 1 / (2*np.pi)**(D/2)\n",
    "    c2 = 1 / (np.linalg.det(sigma)**(1/2))\n",
    "    inv_sigma = np.linalg.inv(sigma)\n",
    "    c3 = x-mu\n",
    "    c4 = np.dot(c3,inv_sigma)\n",
    "    c5 = np.zeros(N)\n",
    "    for d in range(D):\n",
    "        c5 = c5 + c4[:,d] * c3[:,d]\n",
    "    p = c1 * c2 * np.exp(-c5 /2)\n",
    "    return p"
   ]
  },
  {
   "cell_type": "code",
   "execution_count": 7,
   "metadata": {
    "scrolled": true
   },
   "outputs": [
    {
     "name": "stdout",
     "output_type": "stream",
     "text": [
      "[0.15915494 0.05854983 0.00291502]\n"
     ]
    }
   ],
   "source": [
    "x = np.array([[1,2],[2,1],[3,4]])\n",
    "mu = np.array([1,2])\n",
    "sigma = np.array([[1,0],[0,1]])\n",
    "print(gauss(x,mu,sigma))"
   ]
  },
  {
   "cell_type": "code",
   "execution_count": null,
   "metadata": {},
   "outputs": [],
   "source": []
  }
 ],
 "metadata": {
  "kernelspec": {
   "display_name": "jy3",
   "language": "python",
   "name": "jy3.6"
  },
  "language_info": {
   "codemirror_mode": {
    "name": "ipython",
    "version": 3
   },
   "file_extension": ".py",
   "mimetype": "text/x-python",
   "name": "python",
   "nbconvert_exporter": "python",
   "pygments_lexer": "ipython3",
   "version": "3.6.8"
  },
  "widgets": {
   "state": {},
   "version": "1.1.2"
  }
 },
 "nbformat": 4,
 "nbformat_minor": 2
}
