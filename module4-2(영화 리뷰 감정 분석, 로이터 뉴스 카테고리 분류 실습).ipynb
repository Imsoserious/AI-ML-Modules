{
 "cells": [
  {
   "cell_type": "markdown",
   "metadata": {},
   "source": [
    "# 영화 리뷰 감정 분석"
   ]
  },
  {
   "cell_type": "code",
   "execution_count": 1,
   "metadata": {},
   "outputs": [],
   "source": [
    "# 일부만 할당된 GPU 메모리를 실행하는 동안 필요한만큼 늘릴 수 있도록 설정함\n",
    "import tensorflow as tf\n",
    "\n",
    "config = tf.ConfigProto()\n",
    "config.gpu_options.allow_growth = True\n",
    "session = tf.Session(config=config)"
   ]
  },
  {
   "cell_type": "code",
   "execution_count": 2,
   "metadata": {},
   "outputs": [],
   "source": [
    "# 동일한 결과를 재현하기 위해서 random seed 고정\n",
    "import numpy as np\n",
    "np.random.seed(777)"
   ]
  },
  {
   "cell_type": "code",
   "execution_count": 3,
   "metadata": {},
   "outputs": [],
   "source": [
    "from tensorflow.keras.datasets import imdb\n",
    "# save np.load\n",
    "np_load_old = np.load\n",
    "\n",
    "# modify the default parameters of np.load\n",
    "np.load = lambda *a,**k: np_load_old(*a, allow_pickle=True, **k)\n",
    "(train_data, train_labels), (test_data, test_labels) = imdb.load_data(num_words=10000)\n",
    "np.load = np_load_old\n"
   ]
  },
  {
   "cell_type": "code",
   "execution_count": 4,
   "metadata": {
    "scrolled": true
   },
   "outputs": [
    {
     "name": "stdout",
     "output_type": "stream",
     "text": [
      "[1, 249, 1323, 7, 61, 113, 10, 10, 13, 1637, 14, 20, 56, 33, 2401, 18, 457, 88, 13, 2626, 1400, 45, 3171, 13, 70, 79, 49, 706, 919, 13, 16, 355, 340, 355, 1696, 96, 143, 4, 22, 32, 289, 7, 61, 369, 71, 2359, 5, 13, 16, 131, 2073, 249, 114, 249, 229, 249, 20, 13, 28, 126, 110, 13, 473, 8, 569, 61, 419, 56, 429, 6, 1513, 18, 35, 534, 95, 474, 570, 5, 25, 124, 138, 88, 12, 421, 1543, 52, 725, 6397, 61, 419, 11, 13, 1571, 15, 1543, 20, 11, 4, 2, 5, 296, 12, 3524, 5, 15, 421, 128, 74, 233, 334, 207, 126, 224, 12, 562, 298, 2167, 1272, 7, 2601, 5, 516, 988, 43, 8, 79, 120, 15, 595, 13, 784, 25, 3171, 18, 165, 170, 143, 19, 14, 5, 7224, 6, 226, 251, 7, 61, 113]\n"
     ]
    }
   ],
   "source": [
    "sample_idx=4\n",
    "print(train_data[sample_idx]) # 4번째 문장의 값"
   ]
  },
  {
   "cell_type": "code",
   "execution_count": 5,
   "metadata": {},
   "outputs": [
    {
     "name": "stdout",
     "output_type": "stream",
     "text": [
      "0\n"
     ]
    }
   ],
   "source": [
    "print(train_labels[sample_idx]) # 4번째 라벨의 값"
   ]
  },
  {
   "cell_type": "code",
   "execution_count": 21,
   "metadata": {
    "scrolled": false
   },
   "outputs": [
    {
     "name": "stdout",
     "output_type": "stream",
     "text": [
      "? worst mistake of my life br br i picked this movie up at target for 5 because i figured hey it's sandler i can get some cheap laughs i was wrong completely wrong mid way through the film all three of my friends were asleep and i was still suffering worst plot worst script worst movie i have ever seen i wanted to hit my head up against a wall for an hour then i'd stop and you know why because it felt damn good upon bashing my head in i stuck that damn movie in the ? and watched it burn and that felt better than anything else i've ever done it took american psycho army of darkness and kill bill just to get over that crap i hate you sandler for actually going through with this and ruining a whole day of my life\n"
     ]
    }
   ],
   "source": [
    "word_index=imdb.get_word_index() # 단어와 인덱스를 매핑한 딕셔너리(제공되는 데이터임)\n",
    "reverse_word_index = dict([(v,k) for (k,v) in word_index.items()]) # {단어: 정수} => {정수: 단어}로 \n",
    "\n",
    "# 벡터화 된 문장을 텍스트로 디코딩\n",
    "# 0, 1, 2번째 단어는 '패딩', '문서 시작', '사전에 없음'을 뜻하는 기호임.\n",
    "# 그래서 각 문장에 매핑할 때는 이를 제외한 나머지 단어의 인덱스를 3 땡겨서 매핑함.\n",
    "decoded_review = ' '.join([reverse_word_index.get(i-3,'?') for i in train_data[sample_idx]])\n",
    "print(decoded_review)"
   ]
  },
  {
   "cell_type": "code",
   "execution_count": 36,
   "metadata": {},
   "outputs": [
    {
     "data": {
      "text/plain": [
       "88584"
      ]
     },
     "execution_count": 36,
     "metadata": {},
     "output_type": "execute_result"
    }
   ],
   "source": [
    "len(reverse_word_index)"
   ]
  },
  {
   "cell_type": "code",
   "execution_count": 37,
   "metadata": {},
   "outputs": [
    {
     "name": "stdout",
     "output_type": "stream",
     "text": [
      "[1, 259, 37, 100, 169, 1653, 1107, 11, 14, 418, 7, 595, 3882, 8, 28, 68, 419, 8932, 75, 28, 4, 2, 8802, 5227, 173, 58, 7164, 322, 19, 2, 32, 120, 41, 648, 2, 1990, 39, 2448, 2, 34, 35, 4595, 492, 150, 59, 9, 2, 7143, 5170, 32, 120, 4, 3904, 1873, 4, 766, 38, 6204, 820, 6133, 8, 3177, 2, 9106, 41, 957, 11, 620, 1093, 75, 28, 4, 658, 37, 517, 46, 34, 2, 6, 4057, 37, 43, 571, 8, 30, 27, 577, 442, 3072, 19, 90, 88, 29, 385, 99, 946, 5, 630, 34, 5330, 27, 668, 7698, 260, 383, 19, 41, 3586, 5, 95, 2, 41, 56, 75, 28, 4, 554, 37, 9, 6866, 2, 34, 27, 8176, 5, 37, 266, 344, 5, 3936, 27, 1633, 25, 67, 45, 32, 2, 933, 3374, 4, 64, 542, 561, 11, 14, 3388, 2446, 7, 5174, 9, 54, 4, 1246, 1496, 27, 6256, 2, 45, 6, 52, 155, 14, 2803, 16, 324, 23, 374, 88, 900, 51, 6, 437, 7, 3269, 22, 12, 62, 30, 48, 15, 232, 37, 1291, 2719, 3882, 8, 30, 928, 11, 14, 2, 9, 66, 622, 57, 594, 91, 84, 104, 2719, 26, 2140, 75, 219, 14, 2320, 20, 95, 276, 23, 1456, 255, 4, 3612, 449, 61, 558, 12, 16, 6, 2, 17, 8, 63, 31, 16, 433, 51, 9, 170, 23, 11, 1898, 134, 504, 1195, 1195, 1195]\n"
     ]
    }
   ],
   "source": [
    "print(train_data[13])"
   ]
  },
  {
   "cell_type": "code",
   "execution_count": 62,
   "metadata": {},
   "outputs": [
    {
     "data": {
      "text/plain": [
       "'k'"
      ]
     },
     "execution_count": 62,
     "metadata": {},
     "output_type": "execute_result"
    }
   ],
   "source": [
    "a = {1: 'hi'}\n",
    "a.get(0,'k')"
   ]
  },
  {
   "cell_type": "markdown",
   "metadata": {},
   "source": [
    "# 2. 데이터 전처리"
   ]
  },
  {
   "cell_type": "code",
   "execution_count": 39,
   "metadata": {},
   "outputs": [],
   "source": [
    "import numpy as np\n",
    "# one-hot encoding\n",
    "def vectorize_sequences(sequences, dimension=10000):\n",
    "    # 행은 총 문장의 수, 열은 총 단어의 수\n",
    "    results = np.zeros((len(sequences), dimension)) # (문장 수 x 단어수)\n",
    "    \n",
    "    # 문장별 단어의 존재 여부 표시하는 벡터\n",
    "    # (인덱스, 값) --> 여기서는 (행,열) = 1\n",
    "    for i, sequence in enumerate(sequences):\n",
    "        results[i, sequence]= 1  # 문장에 존재하는 단어들만 one-hot encoding\n",
    "    return results\n",
    "\n",
    "# 문장을 일정한 크기의 벡터로 변환\n",
    "# 1,0으로 된 벡터로 변환됨\n",
    "X_train = vectorize_sequences(train_data)\n",
    "X_test = vectorize_sequences(test_data)"
   ]
  },
  {
   "cell_type": "code",
   "execution_count": 40,
   "metadata": {},
   "outputs": [],
   "source": [
    "# 리스트 형태인 레이블을 벡터로 변환\n",
    "y_train = np.array(train_labels).astype('float32')\n",
    "y_test = np.array(test_labels).astype('float32')"
   ]
  },
  {
   "cell_type": "code",
   "execution_count": 51,
   "metadata": {},
   "outputs": [
    {
     "name": "stdout",
     "output_type": "stream",
     "text": [
      "0.0\n"
     ]
    }
   ],
   "source": [
    "c=0\n",
    "for i in range(len(train_data)):\n",
    "    k= X_train[i][3]\n",
    "    c+=k\n",
    "print(c)"
   ]
  },
  {
   "cell_type": "code",
   "execution_count": 47,
   "metadata": {},
   "outputs": [
    {
     "name": "stdout",
     "output_type": "stream",
     "text": [
      "[    0. 25000. 24325. ...    27.    31.    31.]\n"
     ]
    }
   ],
   "source": [
    "print(X_train.sum(axis=0))"
   ]
  },
  {
   "cell_type": "code",
   "execution_count": 42,
   "metadata": {},
   "outputs": [
    {
     "name": "stdout",
     "output_type": "stream",
     "text": [
      "(25000, 10000)\n",
      "(25000,)\n",
      "(25000, 10000)\n",
      "(25000,)\n"
     ]
    }
   ],
   "source": [
    "print(X_train.shape)\n",
    "print(y_train.shape)\n",
    "print(X_test.shape)\n",
    "print(y_test.shape)"
   ]
  },
  {
   "cell_type": "code",
   "execution_count": 59,
   "metadata": {},
   "outputs": [],
   "source": [
    "# 검증셋과 훈려셋으로 나눔\n",
    "# 데이터 나눔\n",
    "X_valid = X_train[:10000]\n",
    "X_train = X_train[10000:]\n",
    "# 클래스 나눔\n",
    "y_valid = y_train[:10000]\n",
    "y_train = y_train[10000:]"
   ]
  },
  {
   "cell_type": "markdown",
   "metadata": {},
   "source": [
    "# 3. 네트워크 정의"
   ]
  },
  {
   "cell_type": "code",
   "execution_count": 36,
   "metadata": {},
   "outputs": [
    {
     "name": "stdout",
     "output_type": "stream",
     "text": [
      "WARNING:tensorflow:From C:\\ProgramData\\Anaconda3\\envs\\keras\\lib\\site-packages\\tensorflow\\python\\ops\\resource_variable_ops.py:435: colocate_with (from tensorflow.python.framework.ops) is deprecated and will be removed in a future version.\n",
      "Instructions for updating:\n",
      "Colocations handled automatically by placer.\n"
     ]
    }
   ],
   "source": [
    "from tensorflow.keras.models import Sequential\n",
    "from tensorflow.keras.layers import Dense\n",
    "\n",
    "model = Sequential()\n",
    "model.add(Dense(16, activation='relu', input_shape=(10000,))) # 속성 1만개\n",
    "# 선형모델은 미분 연쇄로 해도 선형꼴로 나오기 때문에 비선형도 소화하는 relu 같은 함수를 쓰는 게 좋음\n",
    "model.add(Dense(16, activation='relu')) # 두 번재 층부터는 알아서 속성 개수(가중치 수) 정해짐\n",
    "model.add(Dense(1, activation='sigmoid'))\n"
   ]
  },
  {
   "cell_type": "markdown",
   "metadata": {},
   "source": [
    "# 4. 모델 컴파일"
   ]
  },
  {
   "cell_type": "code",
   "execution_count": 39,
   "metadata": {},
   "outputs": [],
   "source": [
    "model.compile(loss='binary_crossentropy', optimizer='rmsprop', metrics=['accuracy'])"
   ]
  },
  {
   "cell_type": "markdown",
   "metadata": {},
   "source": [
    "# 5. 모델 학습"
   ]
  },
  {
   "cell_type": "code",
   "execution_count": 40,
   "metadata": {},
   "outputs": [
    {
     "name": "stdout",
     "output_type": "stream",
     "text": [
      "Train on 15000 samples, validate on 10000 samples\n",
      "WARNING:tensorflow:From C:\\ProgramData\\Anaconda3\\envs\\keras\\lib\\site-packages\\tensorflow\\python\\ops\\math_ops.py:3066: to_int32 (from tensorflow.python.ops.math_ops) is deprecated and will be removed in a future version.\n",
      "Instructions for updating:\n",
      "Use tf.cast instead.\n",
      "Epoch 1/20\n",
      "15000/15000 [==============================] - 3s 222us/sample - loss: 0.4414 - acc: 0.8231 - val_loss: 0.3155 - val_acc: 0.8875\n",
      "Epoch 2/20\n",
      "15000/15000 [==============================] - 2s 153us/sample - loss: 0.2399 - acc: 0.9142 - val_loss: 0.2753 - val_acc: 0.8918\n",
      "Epoch 3/20\n",
      "15000/15000 [==============================] - 2s 145us/sample - loss: 0.1722 - acc: 0.9413 - val_loss: 0.2784 - val_acc: 0.8902\n",
      "Epoch 4/20\n",
      "15000/15000 [==============================] - 2s 144us/sample - loss: 0.1325 - acc: 0.9547 - val_loss: 0.3239 - val_acc: 0.8763\n",
      "Epoch 5/20\n",
      "15000/15000 [==============================] - 2s 148us/sample - loss: 0.1040 - acc: 0.9653 - val_loss: 0.3328 - val_acc: 0.8815\n",
      "Epoch 6/20\n",
      "15000/15000 [==============================] - 2s 144us/sample - loss: 0.0816 - acc: 0.9737 - val_loss: 0.3563 - val_acc: 0.8812\n",
      "Epoch 7/20\n",
      "15000/15000 [==============================] - 2s 147us/sample - loss: 0.0639 - acc: 0.9820 - val_loss: 0.4353 - val_acc: 0.8682\n",
      "Epoch 8/20\n",
      "15000/15000 [==============================] - 2s 148us/sample - loss: 0.0486 - acc: 0.9857 - val_loss: 0.4481 - val_acc: 0.8734\n",
      "Epoch 9/20\n",
      "15000/15000 [==============================] - 2s 146us/sample - loss: 0.0381 - acc: 0.9895 - val_loss: 0.4741 - val_acc: 0.8738\n",
      "Epoch 10/20\n",
      "15000/15000 [==============================] - 2s 149us/sample - loss: 0.0256 - acc: 0.9941 - val_loss: 0.5267 - val_acc: 0.8689\n",
      "Epoch 11/20\n",
      "15000/15000 [==============================] - 2s 146us/sample - loss: 0.0188 - acc: 0.9957 - val_loss: 0.5793 - val_acc: 0.8705\n",
      "Epoch 12/20\n",
      "15000/15000 [==============================] - 2s 149us/sample - loss: 0.0126 - acc: 0.9975 - val_loss: 0.6342 - val_acc: 0.8660\n",
      "Epoch 13/20\n",
      "15000/15000 [==============================] - 2s 146us/sample - loss: 0.0091 - acc: 0.9983 - val_loss: 0.6804 - val_acc: 0.8653\n",
      "Epoch 14/20\n",
      "15000/15000 [==============================] - 2s 146us/sample - loss: 0.0063 - acc: 0.9989 - val_loss: 0.7445 - val_acc: 0.8640\n",
      "Epoch 15/20\n",
      "15000/15000 [==============================] - 2s 148us/sample - loss: 0.0033 - acc: 0.9997 - val_loss: 0.7942 - val_acc: 0.8633\n",
      "Epoch 16/20\n",
      "15000/15000 [==============================] - 2s 148us/sample - loss: 0.0025 - acc: 0.9996 - val_loss: 0.8476 - val_acc: 0.8617\n",
      "Epoch 17/20\n",
      "15000/15000 [==============================] - 2s 147us/sample - loss: 0.0015 - acc: 0.9997 - val_loss: 0.9020 - val_acc: 0.8596\n",
      "Epoch 18/20\n",
      "15000/15000 [==============================] - 2s 156us/sample - loss: 0.0013 - acc: 0.9999 - val_loss: 0.9477 - val_acc: 0.8598\n",
      "Epoch 19/20\n",
      "15000/15000 [==============================] - 2s 152us/sample - loss: 8.9287e-04 - acc: 0.9999 - val_loss: 0.9850 - val_acc: 0.8586\n",
      "Epoch 20/20\n",
      "15000/15000 [==============================] - 2s 150us/sample - loss: 7.7981e-04 - acc: 0.9999 - val_loss: 1.0179 - val_acc: 0.8578\n"
     ]
    }
   ],
   "source": [
    "history = model.fit(X_train,y_train, epochs=20, batch_size=256, validation_data=(X_valid,y_valid))"
   ]
  },
  {
   "cell_type": "markdown",
   "metadata": {},
   "source": [
    "# 6.학습과정 확인"
   ]
  },
  {
   "cell_type": "code",
   "execution_count": 44,
   "metadata": {},
   "outputs": [
    {
     "data": {
      "image/png": "[encoded data removed]",
      "text/plain": [
       "<Figure size 432x288 with 1 Axes>"
      ]
     },
     "metadata": {
      "needs_background": "light"
     },
     "output_type": "display_data"
    }
   ],
   "source": [
    "import matplotlib.pyplot as plt\n",
    "%matplotlib inline\n",
    "\n",
    "loss, val_loss = history.history['loss'], history.history['val_loss']\n",
    "epochs= range(1,len(loss)+1)\n",
    "\n",
    "plt.plot(epochs, loss, 'b', label='Training loss') # b는 파란 실선 의미\n",
    "plt.plot(epochs, val_loss, 'bo', label='Validation loss') # bo는 파란색 점을 의미\n",
    "plt.title('Training and validation loss')\n",
    "plt.xlabel('Epochs')\n",
    "plt.ylabel('Loss')\n",
    "plt.xticks(epochs)\n",
    "plt.legend()\n",
    "\n",
    "plt.show()"
   ]
  },
  {
   "cell_type": "code",
   "execution_count": 45,
   "metadata": {},
   "outputs": [
    {
     "data": {
      "image/png": "[encoded data removed]",
      "text/plain": [
       "<Figure size 432x288 with 1 Axes>"
      ]
     },
     "metadata": {
      "needs_background": "light"
     },
     "output_type": "display_data"
    }
   ],
   "source": [
    "import matplotlib.pyplot as plt\n",
    "\n",
    "acc,val_acc = history.history['acc'], history.history['val_acc']\n",
    "plt.plot(epochs, acc, 'r', label=\"Training acc\")\n",
    "plt.plot(epochs, val_acc, 'ro', label='Validation acc')\n",
    "plt.title('Training and validation acc')\n",
    "plt.xlabel('Epochs')\n",
    "plt.ylabel('Accuracy')\n",
    "plt.xticks(epochs)\n",
    "plt.legend()\n",
    "\n",
    "plt.show()"
   ]
  },
  {
   "cell_type": "code",
   "execution_count": 46,
   "metadata": {},
   "outputs": [
    {
     "data": {
      "image/png": "[encoded data removed]",
      "text/plain": [
       "<Figure size 432x288 with 1 Axes>"
      ]
     },
     "metadata": {
      "needs_background": "light"
     },
     "output_type": "display_data"
    }
   ],
   "source": [
    "import matplotlib.pyplot as plt\n",
    "\n",
    "loss, val_loss = history.history['loss'], history.history['val_loss']\n",
    "acc, val_acc = history.history['acc'], history.history['val_acc']\n",
    "epochs = range(1, len(loss)+1)\n",
    "\n",
    "plt.plot(epochs, loss, 'b', label='Training loss')\n",
    "plt.plot(epochs, val_loss, 'bo', label='Validation loss')\n",
    "plt.plot(epochs, acc, 'r', label='Training acc')\n",
    "plt.plot(epochs, val_acc, 'ro', label='Validation acc')\n",
    "plt.title('Learning history')\n",
    "plt.xlabel('Epochs')\n",
    "plt.ylabel('Accuracy/Loss')\n",
    "plt.xticks(epochs)\n",
    "plt.legend()\n",
    "\n",
    "plt.show()"
   ]
  },
  {
   "cell_type": "code",
   "execution_count": 48,
   "metadata": {},
   "outputs": [
    {
     "name": "stdout",
     "output_type": "stream",
     "text": [
      "25000/25000 [==============================] - 4s 143us/sample - loss: 1.1174 - acc: 0.8464\n",
      "test loss(20 epochs):  1.117377071764469\n",
      "test acc(20 epochs):  0.8464\n"
     ]
    }
   ],
   "source": [
    "# 모델 평가\n",
    "test_loss, test_acc = model.evaluate(X_test, y_test)\n",
    "print('test loss(20 epochs): ', test_loss)\n",
    "print('test acc(20 epochs): ', test_acc)"
   ]
  },
  {
   "cell_type": "markdown",
   "metadata": {},
   "source": [
    "# 7. (과대적합 되기 전까지) 모델 학습"
   ]
  },
  {
   "cell_type": "code",
   "execution_count": 50,
   "metadata": {},
   "outputs": [
    {
     "name": "stdout",
     "output_type": "stream",
     "text": [
      "Train on 15000 samples, validate on 10000 samples\n",
      "Epoch 1/3\n",
      "15000/15000 [==============================] - 2s 162us/sample - loss: 0.4525 - acc: 0.8170 - val_loss: 0.3307 - val_acc: 0.8803\n",
      "Epoch 2/3\n",
      "15000/15000 [==============================] - 2s 141us/sample - loss: 0.2509 - acc: 0.9139 - val_loss: 0.2749 - val_acc: 0.8916\n",
      "Epoch 3/3\n",
      "15000/15000 [==============================] - 2s 141us/sample - loss: 0.1812 - acc: 0.9371 - val_loss: 0.2962 - val_acc: 0.8820\n"
     ]
    }
   ],
   "source": [
    "# 기존 model 객체를 사용하면 이어서 학습되므로, 새로운 model 객체를 생성함\n",
    "model = Sequential()\n",
    "model.add(Dense(16, activation='relu',input_shape=(10000,)))\n",
    "model.add(Dense(16, activation='relu'))\n",
    "model.add(Dense(1,activation='sigmoid'))\n",
    "\n",
    "model.compile(loss='binary_crossentropy', optimizer='rmsprop', metrics=['accuracy'])\n",
    "histroy = model.fit(X_train,y_train, validation_data=(X_valid,y_valid), \n",
    "                    epochs=3, batch_size=256)\n"
   ]
  },
  {
   "cell_type": "code",
   "execution_count": 51,
   "metadata": {},
   "outputs": [
    {
     "name": "stdout",
     "output_type": "stream",
     "text": [
      "25000/25000 [==============================] - 3s 135us/sample - loss: 0.3220 - acc: 0.8702\n",
      "test loss(3 epochs):  0.32201901911735537\n",
      "test acc(3 epochs):  0.87016\n"
     ]
    }
   ],
   "source": [
    "test_loss, test_acc = model.evaluate(X_test,y_test) # 테스트셋을 통해 loss, acc 반환\n",
    "print('test loss(3 epochs): ', test_loss)\n",
    "print('test acc(3 epochs): ', test_acc)"
   ]
  },
  {
   "cell_type": "code",
   "execution_count": 53,
   "metadata": {},
   "outputs": [
    {
     "name": "stdout",
     "output_type": "stream",
     "text": [
      "[[0.17136142]\n",
      " [0.99846053]\n",
      " [0.77086294]\n",
      " ...\n",
      " [0.04384962]\n",
      " [0.0578194 ]\n",
      " [0.30276757]]\n",
      "\n",
      "[[0.1713615]]\n"
     ]
    }
   ],
   "source": [
    "# 여러 개 동시에 예측\n",
    "result = model.predict(X_test)\n",
    "print(result)\n",
    "\n",
    "print()\n",
    "\n",
    "# 하나씩 예측\n",
    "sample = X_test[0]\n",
    "result = model.predict(np.expand_dims(sample, axis=0))\n",
    "print(result)"
   ]
  },
  {
   "cell_type": "markdown",
   "metadata": {},
   "source": [
    "# 로이터 뉴스 카테고리 분류"
   ]
  },
  {
   "cell_type": "code",
   "execution_count": 69,
   "metadata": {},
   "outputs": [],
   "source": [
    "# 동일한 결과를 재현하기 위해서 random seed 고정\n",
    "import numpy as np\n",
    "np.random.seed(777)"
   ]
  },
  {
   "cell_type": "markdown",
   "metadata": {},
   "source": [
    "## 1. 데이터 준비 "
   ]
  },
  {
   "cell_type": "code",
   "execution_count": 70,
   "metadata": {},
   "outputs": [],
   "source": [
    "from tensorflow.keras.datasets import reuters\n",
    "import numpy as np\n",
    "\n",
    "# save np.load\n",
    "np_load_old = np.load\n",
    "\n",
    "# modify the default parameters of np.load\n",
    "np.load = lambda *a,**k: np_load_old(*a, allow_pickle=True, **k)\n",
    "\n",
    "# call load_data with allow_pickle implicitly set to true\n",
    "(train_data, train_labels), (test_data, test_labels) = reuters.load_data(num_words=10000)\n",
    "\n",
    "# restore np.load for future normal usage\n",
    "np.load = np_load_old"
   ]
  },
  {
   "cell_type": "code",
   "execution_count": 71,
   "metadata": {},
   "outputs": [],
   "source": [
    "word_index = reuters.get_word_index()\n",
    "reverse_word_index = dict([(v,k) for (k,v) in word_index.items()])\n",
    "# 0, 1, 2는 '패딩', '문서 시작', '사전에 없음'을 위한 인덱스이므로 3을 뺍니다\n",
    "decoded_newswire = ' '.join([reverse_word_index.get(i-3,'?') for i in train_data[0]])"
   ]
  },
  {
   "cell_type": "code",
   "execution_count": 72,
   "metadata": {},
   "outputs": [
    {
     "data": {
      "text/plain": [
       "'? ? ? said as a result of its december acquisition of space co it expects earnings per share in 1987 of 1 15 to 1 30 dlrs per share up from 70 cts in 1986 the company said pretax net should rise to nine to 10 mln dlrs from six mln dlrs in 1986 and rental operation revenues to 19 to 22 mln dlrs from 12 5 mln dlrs it said cash flow per share this year should be 2 50 to three dlrs reuter 3'"
      ]
     },
     "execution_count": 72,
     "metadata": {},
     "output_type": "execute_result"
    }
   ],
   "source": [
    "decoded_newswire"
   ]
  },
  {
   "cell_type": "markdown",
   "metadata": {},
   "source": [
    "## 2. 데이터 전처리"
   ]
  },
  {
   "cell_type": "code",
   "execution_count": 73,
   "metadata": {},
   "outputs": [],
   "source": [
    "import numpy as np\n",
    "\n",
    "def vectorize_sequences(sequences, dimension=10000):\n",
    "    results =np.zeros((len(sequences), dimension))\n",
    "    for i, sequence in enumerate(sequences): # (인덱스, 값) 형태로 차례로 나옴\n",
    "        results[i,sequence] = 1.\n",
    "    return results\n",
    "    \n",
    "# 훈련 데이터 벡터 변환\n",
    "x_train = vectorize_sequences(train_data)\n",
    "# 테스트 데이터 벡터 변환\n",
    "x_test = vectorize_sequences(test_data)    "
   ]
  },
  {
   "cell_type": "code",
   "execution_count": 55,
   "metadata": {},
   "outputs": [],
   "source": [
    "from keras.utils.np_utils import to_categorical\n",
    "\n",
    "# 각 라벨을 원핫인코딩 형식으로 변환\n",
    "one_hot_train_labels = to_categorical(train_labels)\n",
    "one_hot_test_labels = to_categorical(test_labels)"
   ]
  },
  {
   "cell_type": "code",
   "execution_count": 56,
   "metadata": {},
   "outputs": [
    {
     "data": {
      "text/plain": [
       "array([0., 1.], dtype=float32)"
      ]
     },
     "execution_count": 56,
     "metadata": {},
     "output_type": "execute_result"
    }
   ],
   "source": [
    "one_hot_train_labels[0]"
   ]
  },
  {
   "cell_type": "code",
   "execution_count": 57,
   "metadata": {},
   "outputs": [],
   "source": [
    "x_val = x_train[:1000]\n",
    "partial_x_train = x_train[1000:]\n",
    "\n",
    "y_val = one_hot_train_labels[:1000]\n",
    "partial_y_train = one_hot_train_labels[1000:]"
   ]
  },
  {
   "cell_type": "markdown",
   "metadata": {},
   "source": [
    "## 3. 네트워크 정의"
   ]
  },
  {
   "cell_type": "code",
   "execution_count": 80,
   "metadata": {},
   "outputs": [],
   "source": [
    "from keras import models\n",
    "from keras import layers\n",
    "\n",
    "model = models.Sequential()\n",
    "model.add(layers.Dense(64, activation='relu', input_shape=(10000,)))\n",
    "model.add(layers.Dense(64, activation='relu'))\n",
    "model.add(layers.Dense(46, activation='softmax'))"
   ]
  },
  {
   "cell_type": "markdown",
   "metadata": {},
   "source": [
    "## 4. 모델 컴파일"
   ]
  },
  {
   "cell_type": "code",
   "execution_count": 81,
   "metadata": {},
   "outputs": [],
   "source": [
    "model.compile(optimizer='rmsprop',\n",
    "              loss='categorical_crossentropy',\n",
    "              metrics=['accuracy'])"
   ]
  },
  {
   "cell_type": "markdown",
   "metadata": {},
   "source": [
    "## 5. 모델 학습"
   ]
  },
  {
   "cell_type": "code",
   "execution_count": 83,
   "metadata": {},
   "outputs": [
    {
     "name": "stdout",
     "output_type": "stream",
     "text": [
      "Train on 7982 samples, validate on 1000 samples\n",
      "Epoch 1/20\n",
      "7982/7982 [==============================] - 2s 289us/step - loss: 2.5322 - acc: 0.4955 - val_loss: 1.7208 - val_acc: 0.6120\n",
      "Epoch 2/20\n",
      "7982/7982 [==============================] - 1s 96us/step - loss: 1.4452 - acc: 0.6879 - val_loss: 1.3459 - val_acc: 0.7060\n",
      "Epoch 3/20\n",
      "7982/7982 [==============================] - 1s 94us/step - loss: 1.0953 - acc: 0.7651 - val_loss: 1.1708 - val_acc: 0.7430\n",
      "Epoch 4/20\n",
      "7982/7982 [==============================] - 1s 98us/step - loss: 0.8697 - acc: 0.8165 - val_loss: 1.0793 - val_acc: 0.7590\n",
      "Epoch 5/20\n",
      "7982/7982 [==============================] - 1s 96us/step - loss: 0.7034 - acc: 0.8472 - val_loss: 0.9844 - val_acc: 0.7810\n",
      "Epoch 6/20\n",
      "7982/7982 [==============================] - 1s 95us/step - loss: 0.5667 - acc: 0.8802 - val_loss: 0.9411 - val_acc: 0.8040\n",
      "Epoch 7/20\n",
      "7982/7982 [==============================] - 1s 94us/step - loss: 0.4581 - acc: 0.9048 - val_loss: 0.9083 - val_acc: 0.8020\n",
      "Epoch 8/20\n",
      "7982/7982 [==============================] - 1s 94us/step - loss: 0.3695 - acc: 0.9231 - val_loss: 0.9363 - val_acc: 0.7890\n",
      "Epoch 9/20\n",
      "7982/7982 [==============================] - 1s 98us/step - loss: 0.3032 - acc: 0.9315 - val_loss: 0.8917 - val_acc: 0.8090\n",
      "Epoch 10/20\n",
      "7982/7982 [==============================] - 1s 96us/step - loss: 0.2537 - acc: 0.9414 - val_loss: 0.9071 - val_acc: 0.8110\n",
      "Epoch 11/20\n",
      "7982/7982 [==============================] - 1s 95us/step - loss: 0.2187 - acc: 0.9471 - val_loss: 0.9177 - val_acc: 0.8130\n",
      "Epoch 12/20\n",
      "7982/7982 [==============================] - 1s 94us/step - loss: 0.1873 - acc: 0.9508 - val_loss: 0.9027 - val_acc: 0.8130\n",
      "Epoch 13/20\n",
      "7982/7982 [==============================] - 1s 97us/step - loss: 0.1703 - acc: 0.9521 - val_loss: 0.9323 - val_acc: 0.8110\n",
      "Epoch 14/20\n",
      "7982/7982 [==============================] - 1s 96us/step - loss: 0.1536 - acc: 0.9554 - val_loss: 0.9689 - val_acc: 0.8050\n",
      "Epoch 15/20\n",
      "7982/7982 [==============================] - 1s 96us/step - loss: 0.1390 - acc: 0.9560 - val_loss: 0.9686 - val_acc: 0.8150\n",
      "Epoch 16/20\n",
      "7982/7982 [==============================] - 1s 94us/step - loss: 0.1313 - acc: 0.9560 - val_loss: 1.0220 - val_acc: 0.8060\n",
      "Epoch 17/20\n",
      "7982/7982 [==============================] - 1s 98us/step - loss: 0.1217 - acc: 0.9579 - val_loss: 1.0254 - val_acc: 0.7970\n",
      "Epoch 18/20\n",
      "7982/7982 [==============================] - 1s 96us/step - loss: 0.1198 - acc: 0.9582 - val_loss: 1.0430 - val_acc: 0.8060\n",
      "Epoch 19/20\n",
      "7982/7982 [==============================] - 1s 95us/step - loss: 0.1138 - acc: 0.9597 - val_loss: 1.0955 - val_acc: 0.7970\n",
      "Epoch 20/20\n",
      "7982/7982 [==============================] - 1s 96us/step - loss: 0.1111 - acc: 0.9593 - val_loss: 1.0674 - val_acc: 0.8020\n"
     ]
    }
   ],
   "source": [
    "history = model.fit(partial_x_train, partial_y_train, epochs=20, batch_size=512, \n",
    "                    validation_data=(x_val,y_val))"
   ]
  },
  {
   "cell_type": "markdown",
   "metadata": {},
   "source": [
    "## 6. 학습 과정 확인 "
   ]
  },
  {
   "cell_type": "code",
   "execution_count": 93,
   "metadata": {},
   "outputs": [
    {
     "data": {
      "image/png": "[encoded data removed]",
      "text/plain": [
       "<Figure size 432x288 with 1 Axes>"
      ]
     },
     "metadata": {
      "needs_background": "light"
     },
     "output_type": "display_data"
    }
   ],
   "source": [
    "import matplotlib.pyplot as plt\n",
    "%matplotlib inline\n",
    "\n",
    "loss, val_loss= history.history[\"loss\"], history.history[\"val_loss\"]\n",
    "epochs = range(1, len(loss) + 1)\n",
    "\n",
    "plt.plot(epochs, loss, 'bo', label='Training loss')\n",
    "plt.plot(epochs, val_loss, 'b', label='Validation loss')\n",
    "plt.title('Training and validation loss')\n",
    "plt.xlabel('Epochs')\n",
    "plt.ylabel('Loss')\n",
    "plt.legend()\n",
    "\n",
    "plt.show()"
   ]
  },
  {
   "cell_type": "markdown",
   "metadata": {},
   "source": [
    "## 7. (과대적합 되기 전까지) 모델 학습 "
   ]
  },
  {
   "cell_type": "code",
   "execution_count": 94,
   "metadata": {},
   "outputs": [
    {
     "name": "stdout",
     "output_type": "stream",
     "text": [
      "Train on 7982 samples, validate on 1000 samples\n",
      "Epoch 1/9\n",
      "7982/7982 [==============================] - 2s 276us/step - loss: 2.5398 - acc: 0.5226 - val_loss: 1.6733 - val_acc: 0.6570\n",
      "Epoch 2/9\n",
      "7982/7982 [==============================] - 1s 101us/step - loss: 1.3712 - acc: 0.7121 - val_loss: 1.2758 - val_acc: 0.7210\n",
      "Epoch 3/9\n",
      "7982/7982 [==============================] - 1s 99us/step - loss: 1.0136 - acc: 0.7781 - val_loss: 1.1303 - val_acc: 0.7530\n",
      "Epoch 4/9\n",
      "7982/7982 [==============================] - 1s 104us/step - loss: 0.7976 - acc: 0.8251 - val_loss: 1.0539 - val_acc: 0.7590\n",
      "Epoch 5/9\n",
      "7982/7982 [==============================] - 1s 97us/step - loss: 0.6393 - acc: 0.8624 - val_loss: 0.9754 - val_acc: 0.7920\n",
      "Epoch 6/9\n",
      "7982/7982 [==============================] - 1s 97us/step - loss: 0.5124 - acc: 0.8921 - val_loss: 0.9102 - val_acc: 0.8140\n",
      "Epoch 7/9\n",
      "7982/7982 [==============================] - 1s 96us/step - loss: 0.4124 - acc: 0.9137 - val_loss: 0.8932 - val_acc: 0.8210\n",
      "Epoch 8/9\n",
      "7982/7982 [==============================] - 1s 99us/step - loss: 0.3355 - acc: 0.9290 - val_loss: 0.8732 - val_acc: 0.8260\n",
      "Epoch 9/9\n",
      "7982/7982 [==============================] - 1s 98us/step - loss: 0.2782 - acc: 0.9371 - val_loss: 0.9338 - val_acc: 0.8000\n",
      "2246/2246 [==============================] - 0s 146us/step\n"
     ]
    }
   ],
   "source": [
    "model = models.Sequential()\n",
    "model.add(layers.Dense(64, activation='relu', input_shape=(10000,)))\n",
    "model.add(layers.Dense(64, activation='relu'))\n",
    "model.add(layers.Dense(46, activation='softmax'))\n",
    "\n",
    "model.compile(optimizer='rmsprop',\n",
    "              loss='categorical_crossentropy',\n",
    "              metrics=['accuracy'])\n",
    "model.fit(partial_x_train,\n",
    "          partial_y_train,\n",
    "          epochs=9,\n",
    "          batch_size=512,\n",
    "          validation_data=(x_val, y_val))\n",
    "results = model.evaluate(x_test, one_hot_test_labels)"
   ]
  },
  {
   "cell_type": "markdown",
   "metadata": {},
   "source": [
    "## 8. 학습된 모델로 새로운 데이터 예측"
   ]
  },
  {
   "cell_type": "code",
   "execution_count": 96,
   "metadata": {},
   "outputs": [],
   "source": [
    "predictions = model.predict(x_test)"
   ]
  },
  {
   "cell_type": "code",
   "execution_count": 97,
   "metadata": {},
   "outputs": [
    {
     "data": {
      "text/plain": [
       "(46,)"
      ]
     },
     "execution_count": 97,
     "metadata": {},
     "output_type": "execute_result"
    }
   ],
   "source": [
    "predictions[0].shape "
   ]
  },
  {
   "cell_type": "code",
   "execution_count": 98,
   "metadata": {},
   "outputs": [
    {
     "data": {
      "text/plain": [
       "1.0"
      ]
     },
     "execution_count": 98,
     "metadata": {},
     "output_type": "execute_result"
    }
   ],
   "source": [
    "np.sum(predictions[0]) # 0번째 문장의 확률 합이 1"
   ]
  },
  {
   "cell_type": "code",
   "execution_count": 100,
   "metadata": {},
   "outputs": [
    {
     "data": {
      "text/plain": [
       "3"
      ]
     },
     "execution_count": 100,
     "metadata": {},
     "output_type": "execute_result"
    }
   ],
   "source": [
    "np.argmax(predictions[0])"
   ]
  },
  {
   "cell_type": "markdown",
   "metadata": {},
   "source": [
    "##  sparse_categorical_crossentropy"
   ]
  },
  {
   "cell_type": "code",
   "execution_count": 68,
   "metadata": {},
   "outputs": [],
   "source": [
    "# 개발자가 라벨을 원핫인코딩 안해도 케라스가 알아서 원핫인코딩해서 출력함. \n",
    "model.compile(optimizer='rmsprop', loss='sparse_categorical_crossentropy', metrics=['acc'])\n",
    "# 원핫인코딩 여러 개를 인덱싱을 통해 1차원 벡터로 만듦. \n"
   ]
  },
  {
   "cell_type": "markdown",
   "metadata": {},
   "source": [
    "## 큰 층을 두어야 하는 이유"
   ]
  },
  {
   "cell_type": "code",
   "execution_count": 107,
   "metadata": {
    "scrolled": true
   },
   "outputs": [
    {
     "name": "stdout",
     "output_type": "stream",
     "text": [
      "Train on 7982 samples, validate on 1000 samples\n",
      "Epoch 1/20\n",
      "7982/7982 [==============================] - 1s 174us/step - loss: 3.2637 - acc: 0.1164 - val_loss: 2.6037 - val_acc: 0.4360\n",
      "Epoch 2/20\n",
      "7982/7982 [==============================] - 1s 122us/step - loss: 2.0277 - acc: 0.5372 - val_loss: 1.7440 - val_acc: 0.6150\n",
      "Epoch 3/20\n",
      "7982/7982 [==============================] - 1s 123us/step - loss: 1.5103 - acc: 0.6198 - val_loss: 1.5876 - val_acc: 0.5920\n",
      "Epoch 4/20\n",
      "7982/7982 [==============================] - 1s 122us/step - loss: 1.3410 - acc: 0.6470 - val_loss: 1.4951 - val_acc: 0.6390\n",
      "Epoch 5/20\n",
      "7982/7982 [==============================] - 1s 121us/step - loss: 1.2258 - acc: 0.6951 - val_loss: 1.4542 - val_acc: 0.6570\n",
      "Epoch 6/20\n",
      "7982/7982 [==============================] - 1s 123us/step - loss: 1.1367 - acc: 0.7145 - val_loss: 1.4226 - val_acc: 0.6680\n",
      "Epoch 7/20\n",
      "7982/7982 [==============================] - 1s 121us/step - loss: 1.0686 - acc: 0.7241 - val_loss: 1.4224 - val_acc: 0.6780\n",
      "Epoch 8/20\n",
      "7982/7982 [==============================] - 1s 121us/step - loss: 1.0120 - acc: 0.7331 - val_loss: 1.4337 - val_acc: 0.6770\n",
      "Epoch 9/20\n",
      "7982/7982 [==============================] - 1s 122us/step - loss: 0.9657 - acc: 0.7424 - val_loss: 1.4401 - val_acc: 0.6790\n",
      "Epoch 10/20\n",
      "7982/7982 [==============================] - 1s 121us/step - loss: 0.9219 - acc: 0.7484 - val_loss: 1.4614 - val_acc: 0.6770\n",
      "Epoch 11/20\n",
      "7982/7982 [==============================] - 1s 123us/step - loss: 0.8853 - acc: 0.7516 - val_loss: 1.4816 - val_acc: 0.6770\n",
      "Epoch 12/20\n",
      "7982/7982 [==============================] - 1s 123us/step - loss: 0.8530 - acc: 0.7556 - val_loss: 1.5091 - val_acc: 0.6740\n",
      "Epoch 13/20\n",
      "7982/7982 [==============================] - 1s 123us/step - loss: 0.8234 - acc: 0.7575 - val_loss: 1.5441 - val_acc: 0.6730\n",
      "Epoch 14/20\n",
      "7982/7982 [==============================] - 1s 120us/step - loss: 0.7959 - acc: 0.7643 - val_loss: 1.5755 - val_acc: 0.6790\n",
      "Epoch 15/20\n",
      "7982/7982 [==============================] - 1s 123us/step - loss: 0.7704 - acc: 0.7719 - val_loss: 1.6416 - val_acc: 0.6750\n",
      "Epoch 16/20\n",
      "7982/7982 [==============================] - 1s 125us/step - loss: 0.7501 - acc: 0.7780 - val_loss: 1.6718 - val_acc: 0.6760\n",
      "Epoch 17/20\n",
      "7982/7982 [==============================] - 1s 125us/step - loss: 0.7295 - acc: 0.7849 - val_loss: 1.7395 - val_acc: 0.6680\n",
      "Epoch 18/20\n",
      "7982/7982 [==============================] - 1s 123us/step - loss: 0.7108 - acc: 0.7907 - val_loss: 1.7462 - val_acc: 0.6780\n",
      "Epoch 19/20\n",
      "7982/7982 [==============================] - 1s 123us/step - loss: 0.6942 - acc: 0.7972 - val_loss: 1.8092 - val_acc: 0.6760\n",
      "Epoch 20/20\n",
      "7982/7982 [==============================] - 1s 124us/step - loss: 0.6788 - acc: 0.8001 - val_loss: 1.7851 - val_acc: 0.6740\n"
     ]
    },
    {
     "data": {
      "text/plain": [
       "<keras.callbacks.History at 0x18e826bf080>"
      ]
     },
     "execution_count": 107,
     "metadata": {},
     "output_type": "execute_result"
    }
   ],
   "source": [
    "model = models.Sequential()\n",
    "#10000차원의 벡터를 첫 레이어에서 64차원으로 학습함.  \n",
    "model.add(layers.Dense(64, activation='relu', input_shape=(10000,)))\n",
    "# 64를 다시 4차원으로 줄임\n",
    "# 4개의 특징, 4차원의 표현으로 46개의 카테고리를 분류해야 하기 때문에 한계가 있다. 과도한 정보손실 같음.\n",
    "model.add(layers.Dense(4, activation='relu')) # 이런 층을 bottlenet층이라고 함\n",
    "\n",
    "model.add(layers.Dense(46, activation='softmax'))\n",
    "\n",
    "model.compile(optimizer='rmsprop',\n",
    "              loss='categorical_crossentropy',\n",
    "              metrics=['accuracy'])\n",
    "model.fit(partial_x_train,\n",
    "          partial_y_train,\n",
    "          epochs=20,\n",
    "          batch_size=128,\n",
    "          validation_data=(x_val, y_val))"
   ]
  },
  {
   "cell_type": "markdown",
   "metadata": {},
   "source": [
    "# 모델 학습 (조기 종료 콜백함수 버전 )"
   ]
  },
  {
   "cell_type": "code",
   "execution_count": 64,
   "metadata": {},
   "outputs": [
    {
     "name": "stdout",
     "output_type": "stream",
     "text": [
      "Train on 15000 samples, validate on 10000 samples\n",
      "Epoch 1/20\n",
      "15000/15000 [==============================] - 4s 240us/step - loss: 0.4626 - acc: 0.8152 - val_loss: 0.3352 - val_acc: 0.8770\n",
      "Epoch 2/20\n",
      "15000/15000 [==============================] - 2s 143us/step - loss: 0.2552 - acc: 0.9133 - val_loss: 0.2787 - val_acc: 0.8894\n",
      "Epoch 3/20\n",
      "15000/15000 [==============================] - 2s 144us/step - loss: 0.1818 - acc: 0.9374 - val_loss: 0.2743 - val_acc: 0.8902\n",
      "Epoch 4/20\n",
      "15000/15000 [==============================] - 2s 147us/step - loss: 0.1425 - acc: 0.9507 - val_loss: 0.2888 - val_acc: 0.8876\n",
      "Epoch 5/20\n",
      "15000/15000 [==============================] - 2s 146us/step - loss: 0.1127 - acc: 0.9629 - val_loss: 0.3111 - val_acc: 0.8846\n",
      "Epoch 6/20\n",
      "15000/15000 [==============================] - 2s 145us/step - loss: 0.0887 - acc: 0.9715 - val_loss: 0.3683 - val_acc: 0.8736\n",
      "Epoch 7/20\n",
      "15000/15000 [==============================] - 2s 145us/step - loss: 0.0706 - acc: 0.9776 - val_loss: 0.3787 - val_acc: 0.8799\n"
     ]
    }
   ],
   "source": [
    "from keras.models import Sequential\n",
    "from keras.layers import Dense\n",
    "from keras.callbacks import EarlyStopping, ModelCheckpoint\n",
    "\n",
    "model = Sequential()\n",
    "model.add(Dense(16, activation='relu', input_shape=(10000,)))\n",
    "model.add(Dense(16, activation='relu'))\n",
    "model.add(Dense(1, activation='sigmoid'))\n",
    "\n",
    "model.compile(optimizer = 'rmsprop',\n",
    "              loss = 'binary_crossentropy',\n",
    "              metrics = ['accuracy'])\n",
    "# earlystopping: 멈추는 조건 설정\n",
    "## val_loss를 모니터링할 것(이를 기준으로 콜백). \n",
    "## 검증셋 로스가 최저점 찍더라도 다시 오르내릴 수 있으니까 3에폭 더 해보고 계속 올라가면 멈춤\n",
    "# modelcheckpoint: earlystopping의 결과를 파일로 저장\n",
    "## 파일패스는 상대주소로(현재 실행중인 주피터파일 주소)\n",
    "## 동일하게 val_loss 기준으로 베스트만 저장\n",
    "callbacks_list = [EarlyStopping(monitor='val_loss', patience=4),\n",
    "                  ModelCheckpoint(filepath='model.h5', monitor='val_loss', save_best_only=True)]\n",
    "\n",
    "history = model.fit(X_train, \n",
    "                    y_train,\n",
    "                    epochs=20,\n",
    "                    batch_size=256,\n",
    "                    validation_data=(X_valid, y_valid),\n",
    "                    callbacks = callbacks_list)"
   ]
  },
  {
   "cell_type": "code",
   "execution_count": 65,
   "metadata": {},
   "outputs": [
    {
     "data": {
      "image/png": "[encoded data removed]",
      "text/plain": [
       "<Figure size 432x288 with 1 Axes>"
      ]
     },
     "metadata": {
      "needs_background": "light"
     },
     "output_type": "display_data"
    }
   ],
   "source": [
    "import matplotlib.pyplot as plt\n",
    "%matplotlib inline\n",
    "\n",
    "loss, val_loss = history.history['loss'], history.history['val_loss']\n",
    "epochs = range(1, len(loss)+1)\n",
    "\n",
    "plt.plot(epochs, loss, 'b', label='Training loss') # 'b'는 파란색 실선을 의미\n",
    "plt.plot(epochs, val_loss, 'bo', label='Validation loss') # 'bo'는 파란색 점을 의미\n",
    "plt.title('Training and validation loss')\n",
    "plt.xlabel('Epochs')\n",
    "plt.ylabel('Loss')\n",
    "plt.xticks(epochs)\n",
    "plt.legend()\n",
    "\n",
    "plt.show()"
   ]
  },
  {
   "cell_type": "code",
   "execution_count": 66,
   "metadata": {},
   "outputs": [
    {
     "name": "stdout",
     "output_type": "stream",
     "text": [
      ">> model load!!\n"
     ]
    }
   ],
   "source": [
    "from keras.models import load_model\n",
    "\n",
    "model = load_model('model.h5')\n",
    "print('>> model load!!')\n"
   ]
  },
  {
   "cell_type": "code",
   "execution_count": 67,
   "metadata": {},
   "outputs": [
    {
     "name": "stdout",
     "output_type": "stream",
     "text": [
      "25000/25000 [==============================] - 3s 138us/step\n",
      "test loss:  0.2916898069572449\n",
      "test acc:  0.8814\n"
     ]
    }
   ],
   "source": [
    "test_loss, test_acc = model.evaluate(X_test, y_test)\n",
    "print('test loss: ', test_loss)\n",
    "print('test acc: ', test_acc)"
   ]
  },
  {
   "cell_type": "code",
   "execution_count": null,
   "metadata": {},
   "outputs": [],
   "source": []
  }
 ],
 "metadata": {
  "kernelspec": {
   "display_name": "keras",
   "language": "python",
   "name": "keras"
  },
  "language_info": {
   "codemirror_mode": {
    "name": "ipython",
    "version": 3
   },
   "file_extension": ".py",
   "mimetype": "text/x-python",
   "name": "python",
   "nbconvert_exporter": "python",
   "pygments_lexer": "ipython3",
   "version": "3.6.8"
  },
  "widgets": {
   "state": {},
   "version": "1.1.2"
  }
 },
 "nbformat": 4,
 "nbformat_minor": 2
}
