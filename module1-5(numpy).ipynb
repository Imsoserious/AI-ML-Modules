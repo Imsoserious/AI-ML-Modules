{
 "cells": [
  {
   "cell_type": "markdown",
   "metadata": {},
   "source": [
    "# 1. Numpy\n",
    "### 실제 분석에서는 통계자료를 분석한 후에 고급분석으로 넘어가는데, 대부분의 자료는 정규분포를 따르지 않는다. 하지만 우리가 관심 있는 건 통계량의 분포이고, 자료가 충분히 모이면 중심극한정리에 의해 통계량의 정규분포가 대부분 성립하므로 분석이 가능하다. 여기서 numpy가 쓰인다. "
   ]
  },
  {
   "cell_type": "code",
   "execution_count": 3,
   "metadata": {},
   "outputs": [],
   "source": [
    "import numpy as np #분포별 난수발생 가능\n"
   ]
  },
  {
   "cell_type": "code",
   "execution_count": 14,
   "metadata": {},
   "outputs": [
    {
     "data": {
      "text/plain": [
       "(array([[ 2.28714804,  0.24122272],\n",
       "        [-1.013013  , -1.55885841]]), dtype('float64'), (2, 2))"
      ]
     },
     "execution_count": 14,
     "metadata": {},
     "output_type": "execute_result"
    }
   ],
   "source": [
    "data=np.random.randn(2,2) #randn: 표준정규분포에서 샘플 생성 randn(행,열)\n",
    "data, data.dtype, data.shape"
   ]
  },
  {
   "cell_type": "code",
   "execution_count": 13,
   "metadata": {},
   "outputs": [],
   "source": [
    "??np.random.randn #randn: 표준정규분포에서 샘플 생성 randn(행,열)"
   ]
  },
  {
   "cell_type": "code",
   "execution_count": 12,
   "metadata": {},
   "outputs": [
    {
     "name": "stdout",
     "output_type": "stream",
     "text": [
      "[[ 1  2  3  4  5]\n",
      " [ 6  7  8  9 10]] int32 (2, 5) 2\n",
      "1743392419968 1743392419968 1743392550960\n"
     ]
    }
   ],
   "source": [
    "ls1=[1,2,3,4,5]\n",
    "ls2=[6,7,8,9,10]\n",
    "data1=np.array(ls1) # 벡터\n",
    "data2=np.array([ls1,ls2]) # 행렬(2,5)\n",
    "print(data2,data2.dtype,data2.shape,data2.ndim)\n",
    "data3=np.asarray(ls1) # 새로운 객체 생상\n",
    "data4=np.asarray(data1) # 기존의 darray 공유, 즉 data1과 4는 같은 주소를 같는다. \n",
    "print(id(data1),id(data4),id(data3))"
   ]
  },
  {
   "cell_type": "code",
   "execution_count": 44,
   "metadata": {},
   "outputs": [
    {
     "name": "stdout",
     "output_type": "stream",
     "text": [
      "결과값: [ 4  8 12]\n",
      "결과값: [0. 0. 0. 0.]\n",
      "결과값: \n",
      "[[0. 0. 0. 0.]\n",
      " [0. 0. 0. 0.]\n",
      " [0. 0. 0. 0.]\n",
      " [0. 0. 0. 0.]]\n",
      "결과값: [0 0 0 0 0]\n",
      "결과값: [0 0 0 0 0]\n",
      "결과값: \n",
      "[[1. 0. 0. 0.]\n",
      " [0. 1. 0. 0.]\n",
      " [0. 0. 1. 0.]\n",
      " [0. 0. 0. 1.]]\n",
      "결과값: \n",
      "[[0.00000000e+000 0.00000000e+000 0.00000000e+000]\n",
      " [0.00000000e+000 0.00000000e+000 5.86949987e-321]\n",
      " [1.56603289e-311 0.00000000e+000 1.56775183e-311]]\n"
     ]
    }
   ],
   "source": [
    "print(\"결과값: {0}\".format(np.arange(4,13,4)))\n",
    "print(\"결과값: {0}\".format(np.zeros(4)))\n",
    "print(\"결과값: \\n{0}\".format(np.zeros((4,4)))) # 행렬을 인자로 하려면 (행,열) 꼴로 대입. 즉 ()를 기입해야 함.\n",
    "print(\"결과값: {0}\".format(np.zeros_like(ls1)))\n",
    "print(\"결과값: {0}\".format(np.zeros_like(data1)))\n",
    "print(\"결과값: \\n{0}\".format(np.eye(4)))\n",
    "print(\"결과값: \\n{0}\".format(np.empty((3,3))))\n",
    "\n",
    "\n",
    "\n"
   ]
  },
  {
   "cell_type": "code",
   "execution_count": 47,
   "metadata": {},
   "outputs": [
    {
     "data": {
      "text/plain": [
       "array([0, 1, 2, 3, 4])"
      ]
     },
     "execution_count": 47,
     "metadata": {},
     "output_type": "execute_result"
    }
   ],
   "source": [
    "data1-1"
   ]
  },
  {
   "cell_type": "code",
   "execution_count": 50,
   "metadata": {},
   "outputs": [
    {
     "name": "stdout",
     "output_type": "stream",
     "text": [
      "[1 3] [2 3]\n"
     ]
    }
   ],
   "source": [
    "print(data1[0:3:2],data1[1:3])"
   ]
  },
  {
   "cell_type": "code",
   "execution_count": 62,
   "metadata": {},
   "outputs": [
    {
     "name": "stdout",
     "output_type": "stream",
     "text": [
      "[1 2 3] [1 2 3]\n",
      "[  1   2 100] [1 2 3]\n"
     ]
    }
   ],
   "source": [
    "x=data1[0:3]\n",
    "y=data1[0:3].copy()\n",
    "print(x,y)\n",
    "data1[2]=100\n",
    "print(x,y) #copy 안하면 data1을 공유하므로 data1에 변형이 오면 x에도 변형이 온다 "
   ]
  },
  {
   "cell_type": "code",
   "execution_count": 127,
   "metadata": {},
   "outputs": [
    {
     "name": "stdout",
     "output_type": "stream",
     "text": [
      "[b'5' b'6' b'7']\n",
      "complex64\n"
     ]
    }
   ],
   "source": [
    "Y=np.array([5,6,7],dtype=np.string_)\n",
    "print(Y)\n",
    "Y= Y.astype(np.complex64)\n",
    "print(Y.dtype)"
   ]
  },
  {
   "cell_type": "code",
   "execution_count": 81,
   "metadata": {},
   "outputs": [
    {
     "name": "stdout",
     "output_type": "stream",
     "text": [
      "[[ 2  4  6  8]\n",
      " [ 1  3  5  7]\n",
      " [ 0  6  9 10]] 9 9 [[4 6]\n",
      " [3 5]]\n"
     ]
    }
   ],
   "source": [
    "A=np.array([[2,4,6,8],[1,3,5,7],[0,6,9,10]])\n",
    "print(A,A[2][2],A[2,2],\n",
    "      A[:2,1:3])"
   ]
  },
  {
   "cell_type": "code",
   "execution_count": 133,
   "metadata": {},
   "outputs": [
    {
     "name": "stdout",
     "output_type": "stream",
     "text": [
      "[[[ 2  4  6  8]\n",
      "  [ 1  3  5  7]\n",
      "  [ 0  6  9 10]]\n",
      "\n",
      " [[11 12 13 14]\n",
      "  [15 16 17 18]\n",
      "  [19 20 21 22]]]\n",
      "\n",
      "[[[ 2  4  6]\n",
      "  [ 1  3  5]]\n",
      "\n",
      " [[11 12 13]\n",
      "  [15 16 17]]]\n",
      "16\n",
      "[[ 1  3]\n",
      " [15 16]]\n"
     ]
    }
   ],
   "source": [
    "a3=np.array([[[2,4,6,8],[1,3,5,7],[0,6,9,10]],\n",
    "           [[11,12,13,14],[15,16,17,18],[19,20,21,22]]])\n",
    "print(\"{0}\\n\\n{1}\".format(a3,a3[:2,0:2,0:3])) # nd객체[차원범위,행범위,열범위] 혹은 nd객체[차원범위][차원범위,행범위,열범위]\n",
    "print(a3[1,1,1]) # nd객체[차원,행,열]\n",
    "print(a3[:2,1,:2])"
   ]
  },
  {
   "cell_type": "code",
   "execution_count": 114,
   "metadata": {},
   "outputs": [
    {
     "name": "stdout",
     "output_type": "stream",
     "text": [
      "[[[False False False False]\n",
      "  [False  True False False]\n",
      "  [False False False False]]\n",
      "\n",
      " [[False False False False]\n",
      "  [False False False False]\n",
      "  [False False False False]]]\n"
     ]
    },
    {
     "data": {
      "text/plain": [
       "array([3])"
      ]
     },
     "execution_count": 114,
     "metadata": {},
     "output_type": "execute_result"
    }
   ],
   "source": [
    "a3_bool=a3==3\n",
    "print(a3_bool)\n",
    "a3[a3_bool]"
   ]
  },
  {
   "cell_type": "code",
   "execution_count": 113,
   "metadata": {},
   "outputs": [
    {
     "data": {
      "text/plain": [
       "array([[90, 80, 50, 20],\n",
       "       [49, 29, 48, 88]])"
      ]
     },
     "execution_count": 113,
     "metadata": {},
     "output_type": "execute_result"
    }
   ],
   "source": [
    "sex=np.array([\"m\",\"m\",\"f\",\"f\"])\n",
    "score=np.array([[90,80,50,20],[49,29,48,88],[68,39,99,16],[78,90,84,44]])\n",
    "cl=score[sex==\"m\"]\n",
    "cl"
   ]
  },
  {
   "cell_type": "code",
   "execution_count": 135,
   "metadata": {},
   "outputs": [
    {
     "data": {
      "text/plain": [
       "array([ 2,  4,  1,  3,  5,  0, 19, 20, 21, 22])"
      ]
     },
     "execution_count": 135,
     "metadata": {},
     "output_type": "execute_result"
    }
   ],
   "source": [
    "grade=np.array([[\"a\",\"a\",\"b\"],[\"b\",\"c\",\"c\"]])\n",
    "a3[(a3>=19) |(a3<=5)]\n"
   ]
  },
  {
   "cell_type": "code",
   "execution_count": 168,
   "metadata": {},
   "outputs": [
    {
     "name": "stdout",
     "output_type": "stream",
     "text": [
      "[[-1.34667262  0.64133922 -0.78003462 -0.66677917]\n",
      " [ 0.15913369 -0.12685381  2.28960613  0.14078566]\n",
      " [ 0.9541955   0.8028677   0.15380564  0.56045416]\n",
      " [-0.92706522  0.17500056  0.60931629 -0.98989329]\n",
      " [-0.43288459  0.27539035  0.17205437 -0.31700179]\n",
      " [-0.29778978 -2.23591581 -0.88771874 -0.47046897]\n",
      " [ 0.84256354 -1.24682118  0.89293347 -0.44379443]]\n",
      "\n",
      "[[-0.29778978 -2.23591581 -0.88771874 -0.47046897]\n",
      " [ 0.9541955   0.8028677   0.15380564  0.56045416]\n",
      " [ 0.15913369 -0.12685381  2.28960613  0.14078566]]\n",
      "\n",
      "[[-0.29778978 -2.23591581 -0.88771874 -0.47046897]\n",
      " [ 0.84256354 -1.24682118  0.89293347 -0.44379443]\n",
      " [-0.92706522  0.17500056  0.60931629 -0.98989329]]\n",
      "\n",
      "[-0.12685381  0.15380564 -0.98989329]\n",
      "\n",
      "[[-0.12685381  2.28960613  0.14078566]\n",
      " [ 0.8028677   0.15380564  0.56045416]\n",
      " [ 0.27539035  0.17205437 -0.31700179]]\n"
     ]
    }
   ],
   "source": [
    "fc=np.random.randn(7,4)\n",
    "fc1=fc[[5,2,1]]\n",
    "fc2=fc[[-2,-1,-4]]\n",
    "print(\"{0}\\n\\n{1}\\n\\n{2}\\n\\n{3}\\n\\n{4}\".format(fc,fc1,fc2,fc[[1,2,3],[1,2,3]],fc[[1,2,4]][:,[1,2,3]]))"
   ]
  },
  {
   "cell_type": "code",
   "execution_count": 144,
   "metadata": {},
   "outputs": [
    {
     "name": "stdout",
     "output_type": "stream",
     "text": [
      "[[ 0  1  2  3  4]\n",
      " [ 5  6  7  8  9]\n",
      " [10 11 12 13 14]\n",
      " [15 16 17 18 19]\n",
      " [20 21 22 23 24]]\n",
      "[[ 0  5 10 15 20]\n",
      " [ 1  6 11 16 21]\n",
      " [ 2  7 12 17 22]\n",
      " [ 3  8 13 18 23]\n",
      " [ 4  9 14 19 24]]\n"
     ]
    }
   ],
   "source": [
    "n=np.arange(25).reshape(5,5)\n",
    "nt=n.T\n",
    "print(n)\n",
    "print(nt)"
   ]
  },
  {
   "cell_type": "code",
   "execution_count": 185,
   "metadata": {},
   "outputs": [
    {
     "name": "stdout",
     "output_type": "stream",
     "text": [
      "[[[ 2  4  6  8]\n",
      "  [ 1  3  5  7]\n",
      "  [ 0  6  9 10]]\n",
      "\n",
      " [[11 12 13 14]\n",
      "  [15 16 17 18]\n",
      "  [19 20 21 22]]]\n",
      "[[[ 2  1  0]\n",
      "  [11 15 19]]\n",
      "\n",
      " [[ 4  3  6]\n",
      "  [12 16 20]]\n",
      "\n",
      " [[ 6  5  9]\n",
      "  [13 17 21]]\n",
      "\n",
      " [[ 8  7 10]\n",
      "  [14 18 22]]]\n",
      "[[[ 2  4  6  8]\n",
      "  [ 1  3  5  7]\n",
      "  [ 0  6  9 10]]\n",
      "\n",
      " [[11 12 13 14]\n",
      "  [15 16 17 18]\n",
      "  [19 20 21 22]]]\n"
     ]
    }
   ],
   "source": [
    "at=a3.transpose(2,0,1)\n",
    "at1=a3.transpose(0,1,2)\n",
    "print(a3)\n",
    "print(at)\n",
    "print(at1)"
   ]
  },
  {
   "cell_type": "code",
   "execution_count": 158,
   "metadata": {},
   "outputs": [
    {
     "data": {
      "text/plain": [
       "(array([ 1,  4,  9, 16], dtype=int32),\n",
       " array([   1,    8,   81, 1024], dtype=int32))"
      ]
     },
     "execution_count": 158,
     "metadata": {},
     "output_type": "execute_result"
    }
   ],
   "source": [
    "s=np.array([1,2,3,4])\n",
    "ss=np.array([2,3,4,5])\n",
    "np.square(s),np.power(s,ss)"
   ]
  },
  {
   "cell_type": "code",
   "execution_count": 182,
   "metadata": {},
   "outputs": [
    {
     "data": {
      "text/plain": [
       "array([[False, False,  True, False, False],\n",
       "       [False, False,  True, False, False]])"
      ]
     },
     "execution_count": 182,
     "metadata": {},
     "output_type": "execute_result"
    }
   ],
   "source": [
    "np.greater(data1,data2)"
   ]
  },
  {
   "cell_type": "code",
   "execution_count": 188,
   "metadata": {},
   "outputs": [
    {
     "name": "stdout",
     "output_type": "stream",
     "text": [
      "[ True  True  True  True  True]\n"
     ]
    }
   ],
   "source": [
    "print((data1>=10)|(data1<=5))"
   ]
  },
  {
   "cell_type": "code",
   "execution_count": 187,
   "metadata": {},
   "outputs": [
    {
     "data": {
      "text/plain": [
       "array([  1,   2, 100,   4,   5])"
      ]
     },
     "execution_count": 187,
     "metadata": {},
     "output_type": "execute_result"
    }
   ],
   "source": [
    "data1"
   ]
  },
  {
   "cell_type": "code",
   "execution_count": 196,
   "metadata": {},
   "outputs": [
    {
     "data": {
      "text/plain": [
       "array([1., 1., 1.])"
      ]
     },
     "execution_count": 196,
     "metadata": {},
     "output_type": "execute_result"
    }
   ],
   "source": [
    "x=np.ones(3)\n",
    "x"
   ]
  },
  {
   "cell_type": "code",
   "execution_count": 191,
   "metadata": {},
   "outputs": [
    {
     "data": {
      "text/plain": [
       "array([[[1., 1., 1.]],\n",
       "\n",
       "       [[1., 1., 1.]]])"
      ]
     },
     "execution_count": 191,
     "metadata": {},
     "output_type": "execute_result"
    }
   ],
   "source": [
    "np.transpose(x,(1,0,2))"
   ]
  },
  {
   "cell_type": "code",
   "execution_count": 199,
   "metadata": {},
   "outputs": [
    {
     "name": "stdout",
     "output_type": "stream",
     "text": [
      "[1 7 8 4 5]\n"
     ]
    }
   ],
   "source": [
    "xx=np.array([1,2,3,4,5])\n",
    "yy=np.array([6,7,8,9,0])\n",
    "zz=np.array([\"a\",\"b\",\"b\",\"a\",\"a\"])\n",
    "result=np.where(zz==\"a\",xx,yy)\n",
    "print(result)"
   ]
  },
  {
   "cell_type": "code",
   "execution_count": 205,
   "metadata": {},
   "outputs": [
    {
     "name": "stdout",
     "output_type": "stream",
     "text": [
      "[[ 88.76709224   0.         103.76921405]\n",
      " [ 73.26341966  78.89417772   0.        ]\n",
      " [ 76.70403049  64.58755152  93.58932645]\n",
      " [ 20.01399564  12.61982469  96.17349696]]\n"
     ]
    }
   ],
   "source": [
    "arr1=(70+30*np.random.randn(12).reshape(4,3))\n",
    "arr2=(10+5*np.random.randn(12).reshape(4,3))\n",
    "result=np.where(arr1>=60,arr1,np.where(arr2>=10,arr2,0))\n",
    "print(result)"
   ]
  },
  {
   "cell_type": "code",
   "execution_count": 209,
   "metadata": {},
   "outputs": [
    {
     "data": {
      "text/plain": [
       "2"
      ]
     },
     "execution_count": 209,
     "metadata": {},
     "output_type": "execute_result"
    }
   ],
   "source": [
    "result.argmax()"
   ]
  },
  {
   "cell_type": "code",
   "execution_count": 217,
   "metadata": {},
   "outputs": [
    {
     "data": {
      "text/plain": [
       "(array([3., 8.]),\n",
       " array([3.5, 4.5, 5.5, 6.5, 7.5]),\n",
       " array([[ 1,  2,  3,  4,  5],\n",
       "        [ 6,  7,  8,  9, 10]]),\n",
       " array([[ 1,  3,  6, 10, 15],\n",
       "        [ 6, 13, 21, 30, 40]], dtype=int32),\n",
       " array([2., 2.]),\n",
       " array([1.41421356, 1.41421356]))"
      ]
     },
     "execution_count": 217,
     "metadata": {},
     "output_type": "execute_result"
    }
   ],
   "source": [
    "data2.mean(axis=1),data2.mean(axis=0),data2, data2.cumsum(axis=1),data2.var(axis=1),data2.std(axis=1)"
   ]
  },
  {
   "cell_type": "code",
   "execution_count": 224,
   "metadata": {},
   "outputs": [
    {
     "name": "stdout",
     "output_type": "stream",
     "text": [
      "True\n"
     ]
    }
   ],
   "source": [
    "arr=np.array([True,True,True])\n",
    "print(arr.all())"
   ]
  },
  {
   "cell_type": "code",
   "execution_count": 16,
   "metadata": {},
   "outputs": [
    {
     "name": "stdout",
     "output_type": "stream",
     "text": [
      "[[ 1  2  3  4  5]\n",
      " [ 6  7  8  9 10]]\n",
      "[[ 1  2  3  4  5]\n",
      " [ 6  7  8  9 10]]\n"
     ]
    }
   ],
   "source": [
    "print(data2)\n",
    "print(data2.transpose(0,1))"
   ]
  },
  {
   "cell_type": "code",
   "execution_count": 13,
   "metadata": {},
   "outputs": [
    {
     "data": {
      "text/plain": [
       "array([[ 1,  6],\n",
       "       [ 2,  7],\n",
       "       [ 3,  8],\n",
       "       [ 4,  9],\n",
       "       [ 5, 10]])"
      ]
     },
     "execution_count": 13,
     "metadata": {},
     "output_type": "execute_result"
    }
   ],
   "source": [
    "data2.transpose(1,0)"
   ]
  },
  {
   "cell_type": "code",
   "execution_count": 238,
   "metadata": {},
   "outputs": [
    {
     "data": {
      "text/plain": [
       "(array([1, 4, 5, 8, 9]),\n",
       " array([2, 6, 7]),\n",
       " array([1, 2, 4, 5, 6, 7, 8, 9]),\n",
       " array([8]))"
      ]
     },
     "execution_count": 238,
     "metadata": {},
     "output_type": "execute_result"
    }
   ],
   "source": [
    "x=np.array([1,2,5,6,7,9,2,4])\n",
    "y=np.array([8,2,6,7])\n",
    "np.setxor1d(x,y), np.intersect1d(x,y),np.union1d(x,y),np.setdiff1d(y,x)"
   ]
  },
  {
   "cell_type": "code",
   "execution_count": 240,
   "metadata": {},
   "outputs": [
    {
     "data": {
      "text/plain": [
       "0.5"
      ]
     },
     "execution_count": 240,
     "metadata": {},
     "output_type": "execute_result"
    }
   ],
   "source": [
    "(data2>=6).mean() # 전체 데이터 개수에서 6이상인 값의 개수 비율"
   ]
  },
  {
   "cell_type": "code",
   "execution_count": 5,
   "metadata": {},
   "outputs": [],
   "source": [
    "A=np.arange(10)\n",
    "B=np.arange(10,20,1)\n",
    "np.save(\"C:/Users/Affinity/Desktop/수업/Python_Data/pp.npy\",\"A\")"
   ]
  },
  {
   "cell_type": "code",
   "execution_count": 17,
   "metadata": {},
   "outputs": [
    {
     "name": "stdout",
     "output_type": "stream",
     "text": [
      "[[ 81.4 195.   57. ]\n",
      " [122.2 179.   61. ]\n",
      " [101.7 205.   60. ]\n",
      " [175.6 204.   62. ]\n",
      " [150.3 201.   61. ]\n",
      " [ 64.8 184.   54. ]\n",
      " [ 92.1 210.   58. ]\n",
      " [113.8 209.   61. ]]\n"
     ]
    }
   ],
   "source": [
    "steel_data=np.loadtxt(\"C:/Users/Affinity/Desktop/수업/Python_Data/ch02_data/steel.txt\",skiprows=5,delimiter=\"\\t\")\n",
    "print(steel_data)\n"
   ]
  },
  {
   "cell_type": "code",
   "execution_count": 20,
   "metadata": {},
   "outputs": [
    {
     "name": "stdout",
     "output_type": "stream",
     "text": [
      "[[ 81.4 122.2 101.7 175.6 150.3  64.8  92.1 113.8]\n",
      " [195.  179.  205.  204.  201.  184.  210.  209. ]]\n"
     ]
    }
   ],
   "source": [
    "steel_data=np.loadtxt(\"C:/Users/Affinity/Desktop/수업/Python_Data/ch02_data/steel.txt\",skiprows=5,delimiter=\"\\t\",usecols=(0,1),unpack=True)\n",
    "print(steel_data)"
   ]
  },
  {
   "cell_type": "code",
   "execution_count": 21,
   "metadata": {},
   "outputs": [],
   "source": [
    "a=np.array([[1,3,5,7],[5,3,4,7]])\n",
    "b=np.array([[1,3],[5,7],[5,3],[4,7]])\n",
    "c=np.array([[4,9,1,3],[7,5,2,7],[5,3,4,3],[1,4,7,9]])\n",
    "\n"
   ]
  },
  {
   "cell_type": "code",
   "execution_count": 29,
   "metadata": {},
   "outputs": [
    {
     "data": {
      "text/plain": [
       "(array([[69, 88],\n",
       "        [68, 97]]), array([4, 5, 4, 9]))"
      ]
     },
     "execution_count": 29,
     "metadata": {},
     "output_type": "execute_result"
    }
   ],
   "source": [
    "np.dot(a,b),np.diag(c)"
   ]
  },
  {
   "cell_type": "code",
   "execution_count": 26,
   "metadata": {},
   "outputs": [
    {
     "data": {
      "text/plain": [
       "array([[5, 0, 0, 0],\n",
       "       [0, 3, 0, 0],\n",
       "       [0, 0, 4, 0],\n",
       "       [0, 0, 0, 7]])"
      ]
     },
     "execution_count": 26,
     "metadata": {},
     "output_type": "execute_result"
    }
   ],
   "source": [
    "np.diag(a[1])"
   ]
  },
  {
   "cell_type": "code",
   "execution_count": 28,
   "metadata": {},
   "outputs": [
    {
     "data": {
      "text/plain": [
       "4"
      ]
     },
     "execution_count": 28,
     "metadata": {},
     "output_type": "execute_result"
    }
   ],
   "source": [
    "np.trace(a)"
   ]
  },
  {
   "cell_type": "code",
   "execution_count": 30,
   "metadata": {},
   "outputs": [
    {
     "data": {
      "text/plain": [
       "-1549.999999999999"
      ]
     },
     "execution_count": 30,
     "metadata": {},
     "output_type": "execute_result"
    }
   ],
   "source": [
    "np.linalg.det(c)"
   ]
  },
  {
   "cell_type": "code",
   "execution_count": 39,
   "metadata": {},
   "outputs": [],
   "source": [
    "cc=np.linalg.inv(c)"
   ]
  },
  {
   "cell_type": "code",
   "execution_count": 40,
   "metadata": {},
   "outputs": [
    {
     "data": {
      "text/plain": [
       "array([[ 1.00000000e+00,  1.38777878e-16,  8.32667268e-17,\n",
       "         5.55111512e-17],\n",
       "       [-4.85722573e-17,  1.00000000e+00, -2.77555756e-17,\n",
       "         1.66533454e-16],\n",
       "       [-2.08166817e-17, -8.32667268e-17,  1.00000000e+00,\n",
       "        -2.77555756e-17],\n",
       "       [-2.28983499e-16,  1.38777878e-16, -1.94289029e-16,\n",
       "         1.00000000e+00]])"
      ]
     },
     "execution_count": 40,
     "metadata": {},
     "output_type": "execute_result"
    }
   ],
   "source": [
    "np.dot(c,cc)"
   ]
  },
  {
   "cell_type": "code",
   "execution_count": 42,
   "metadata": {},
   "outputs": [
    {
     "data": {
      "text/plain": [
       "(array([18.95137965+0.j        , -4.18786225+0.j        ,\n",
       "         3.6182413 +2.53735307j,  3.6182413 -2.53735307j]),\n",
       " array([[ 0.47831238+0.j        ,  0.64722509+0.j        ,\n",
       "         -0.47647899-0.11511806j, -0.47647899+0.11511806j],\n",
       "        [ 0.56955835+0.j        , -0.65592208+0.j        ,\n",
       "         -0.12915359-0.16898385j, -0.12915359+0.16898385j],\n",
       "        [ 0.38401956+0.j        , -0.26047634+0.j        ,\n",
       "         -0.37310913+0.35580654j, -0.37310913-0.35580654j],\n",
       "        [ 0.54712843+0.j        ,  0.2881284 +0.j        ,\n",
       "          0.66982886+0.j        ,  0.66982886-0.j        ]]))"
      ]
     },
     "execution_count": 42,
     "metadata": {},
     "output_type": "execute_result"
    }
   ],
   "source": [
    "np.linalg.eig(c) # 고유값, 고유행렬 순서로 출력"
   ]
  },
  {
   "cell_type": "code",
   "execution_count": 19,
   "metadata": {},
   "outputs": [
    {
     "name": "stdout",
     "output_type": "stream",
     "text": [
      "[[ 81.4 195.   57. ]\n",
      " [122.2 179.   61. ]\n",
      " [101.7 205.   60. ]\n",
      " [175.6 204.   62. ]\n",
      " [150.3 201.   61. ]\n",
      " [ 64.8 184.   54. ]\n",
      " [ 92.1 210.   58. ]\n",
      " [113.8 209.   61. ]]\n"
     ]
    }
   ],
   "source": [
    "steel_data=np.loadtxt(\"C:/Users/Affinity/Desktop/수업/Python_Data/ch02_data/steel.txt\",skiprows=5,delimiter=\"\\t\")\n",
    "\n",
    "print(steel_data)"
   ]
  },
  {
   "cell_type": "code",
   "execution_count": 27,
   "metadata": {},
   "outputs": [
    {
     "data": {
      "text/plain": [
       "(array([[  1., 195.,  57.],\n",
       "        [  1., 179.,  61.],\n",
       "        [  1., 205.,  60.],\n",
       "        [  1., 204.,  62.],\n",
       "        [  1., 201.,  61.],\n",
       "        [  1., 184.,  54.],\n",
       "        [  1., 210.,  58.],\n",
       "        [  1., 209.,  61.]]),\n",
       " array([ 81.4, 122.2, 101.7, 175.6, 150.3,  64.8,  92.1, 113.8]))"
      ]
     },
     "execution_count": 27,
     "metadata": {},
     "output_type": "execute_result"
    }
   ],
   "source": [
    "y=steel_data[:,0].copy()\n",
    "x=steel_data.copy()\n",
    "x[:,0]=1\n",
    "x,y"
   ]
  },
  {
   "cell_type": "code",
   "execution_count": 28,
   "metadata": {},
   "outputs": [
    {
     "name": "stdout",
     "output_type": "stream",
     "text": [
      "(array([-5.54311223e+02, -1.79739607e-01,  1.18599927e+01]), array([2340.88393765]), 3, array([5.86352311e+02, 8.94176555e+00, 1.09839713e-01]))\n"
     ]
    },
    {
     "name": "stderr",
     "output_type": "stream",
     "text": [
      "C:\\ProgramData\\Anaconda3\\envs\\jy3.6\\lib\\site-packages\\ipykernel_launcher.py:1: FutureWarning: `rcond` parameter will change to the default of machine precision times ``max(M, N)`` where M and N are the input matrix dimensions.\n",
      "To use the future default and silence this warning we advise to pass `rcond=None`, to keep using the old, explicitly pass `rcond=-1`.\n",
      "  \"\"\"Entry point for launching an IPython kernel.\n"
     ]
    }
   ],
   "source": [
    "print(np.linalg.lstsq(x,y)) # 결과값 순서: 회귀계수 베타, sse, x의 랭크 수, x=UDV^T에서 D의 고유값의 제곱근"
   ]
  },
  {
   "cell_type": "code",
   "execution_count": 32,
   "metadata": {},
   "outputs": [
    {
     "name": "stdout",
     "output_type": "stream",
     "text": [
      "121.340417666711\n"
     ]
    },
    {
     "name": "stderr",
     "output_type": "stream",
     "text": [
      "C:\\ProgramData\\Anaconda3\\envs\\jy3.6\\lib\\site-packages\\ipykernel_launcher.py:1: FutureWarning: `rcond` parameter will change to the default of machine precision times ``max(M, N)`` where M and N are the input matrix dimensions.\n",
      "To use the future default and silence this warning we advise to pass `rcond=None`, to keep using the old, explicitly pass `rcond=-1`.\n",
      "  \"\"\"Entry point for launching an IPython kernel.\n"
     ]
    }
   ],
   "source": [
    "sq= np.linalg.lstsq(x,y)[0]\n",
    "new_X=(1,200,60)\n",
    "print(sum(sq*new_X)) # 새로운 case의 값 (1,200,60)에 회귀식을 적용했을 때 종속변수 y 값"
   ]
  },
  {
   "cell_type": "code",
   "execution_count": 41,
   "metadata": {},
   "outputs": [
    {
     "data": {
      "text/plain": [
       "array([-5.54311223e+02, -1.79739607e-01,  1.18599927e+01])"
      ]
     },
     "execution_count": 41,
     "metadata": {},
     "output_type": "execute_result"
    }
   ],
   "source": [
    "np.dot(np.dot(np.linalg.inv(np.dot(x.T,x)),x.T),y)"
   ]
  },
  {
   "cell_type": "code",
   "execution_count": 45,
   "metadata": {},
   "outputs": [
    {
     "data": {
      "text/plain": [
       "array([[1.80269689, 0.19475241, 4.63218526, 7.24933929],\n",
       "       [4.20203605, 4.85427098, 0.12780815, 4.87371607],\n",
       "       [9.41806652, 8.50795089, 7.2996447 , 1.08736072]])"
      ]
     },
     "execution_count": 45,
     "metadata": {},
     "output_type": "execute_result"
    }
   ],
   "source": [
    "np.random.seed(11)\n",
    "un=np.random.uniform(low=0,high=10,size=(3,4))\n",
    "un"
   ]
  },
  {
   "cell_type": "code",
   "execution_count": 72,
   "metadata": {},
   "outputs": [
    {
     "data": {
      "text/plain": [
       "(array([ 3.13967843,  3.04332702,  1.57983119, -0.43444179, -4.3681197 ,\n",
       "        -3.13453682, -1.61934052,  1.00099021, -0.38701971, -1.3284064 ]),\n",
       " -0.2508038076535297,\n",
       " 5.561948446423633)"
      ]
     },
     "execution_count": 72,
     "metadata": {},
     "output_type": "execute_result"
    }
   ],
   "source": [
    "\n",
    "nm=np.random.normal(loc=0,scale=2,size=10)\n",
    "nm,np.mean(nm),np.var(nm)"
   ]
  },
  {
   "cell_type": "code",
   "execution_count": null,
   "metadata": {},
   "outputs": [],
   "source": []
  },
  {
   "cell_type": "code",
   "execution_count": null,
   "metadata": {},
   "outputs": [],
   "source": []
  }
 ],
 "metadata": {
  "kernelspec": {
   "display_name": "jy3",
   "language": "python",
   "name": "jy3.6"
  },
  "language_info": {
   "codemirror_mode": {
    "name": "ipython",
    "version": 3
   },
   "file_extension": ".py",
   "mimetype": "text/x-python",
   "name": "python",
   "nbconvert_exporter": "python",
   "pygments_lexer": "ipython3",
   "version": "3.6.8"
  },
  "widgets": {
   "state": {},
   "version": "1.1.2"
  }
 },
 "nbformat": 4,
 "nbformat_minor": 2
}
