{
 "cells": [
  {
   "cell_type": "markdown",
   "metadata": {},
   "source": [
    "https://frhyme.github.io/machin-learning/sequence_classficiation/"
   ]
  },
  {
   "cell_type": "code",
   "execution_count": 11,
   "metadata": {},
   "outputs": [],
   "source": [
    "import numpy as np\n",
    "from keras.datasets import imdb\n",
    "\n",
    "from keras.models import Sequential\n",
    "from keras.layers import Dense, LSTM, Conv1D, MaxPooling1D, Dropout\n",
    "from keras.layers.embeddings import Embedding\n",
    "from keras.preprocessing import sequence"
   ]
  },
  {
   "cell_type": "code",
   "execution_count": 2,
   "metadata": {},
   "outputs": [],
   "source": [
    "np.random.seed(7) # fix random seed for reproducibility"
   ]
  },
  {
   "cell_type": "code",
   "execution_count": 5,
   "metadata": {},
   "outputs": [
    {
     "name": "stdout",
     "output_type": "stream",
     "text": [
      "reading data complete\n"
     ]
    }
   ],
   "source": [
    "\"\"\"\n",
    "개별 movie review에 있는, 모든 단어를 고려하는 것은 무의미하기 때문에 \n",
    "top_words, 즉 상위 5000개의 단어에 대해서만, 추려냄. 나머지는 필터링\n",
    "그리고 단어는 index로 표시됨.\n",
    "\"\"\"\n",
    "# 리뷰 길이는 100, 참조할 단어는 빈도 상위 500개\n",
    "max_review_length, top_words = 100, 500\n",
    "\n",
    "np_load_old = np.load\n",
    "\n",
    "# modify the default parameters of np.load\n",
    "np.load = lambda *a,**k: np_load_old(*a, allow_pickle=True, **k)\n",
    "(X_train, y_train), (X_test, y_test) = imdb.load_data(num_words = top_words)\n",
    "np.load = np_load_old\n",
    "\"\"\"\n",
    "sequence의 길이를 똑같이 맞춤. 모두 0으로 채워넣음 \n",
    "길이가 500보다 큰 경우에는 그냥 일괄적으로 앞부분을 잘라내버림. \n",
    "\"\"\"\n",
    "\n",
    "X_train = sequence.pad_sequences(X_train, maxlen = max_review_length)\n",
    "X_test = sequence.pad_sequences(X_test, maxlen = max_review_length)\n",
    "\n",
    "print(\"reading data complete\")"
   ]
  },
  {
   "cell_type": "code",
   "execution_count": 15,
   "metadata": {
    "scrolled": true
   },
   "outputs": [
    {
     "name": "stdout",
     "output_type": "stream",
     "text": [
      "<bound method Network.summary of <keras.engine.sequential.Sequential object at 0x000002273688C278>>\n",
      "Train on 25000 samples, validate on 25000 samples\n",
      "Epoch 1/5\n",
      "25000/25000 [==============================] - 56s 2ms/step - loss: 0.5418 - acc: 0.7142 - val_loss: 0.4446 - val_acc: 0.7968\n",
      "Epoch 2/5\n",
      "25000/25000 [==============================] - 56s 2ms/step - loss: 0.4223 - acc: 0.8064 - val_loss: 0.4128 - val_acc: 0.8124\n",
      "Epoch 3/5\n",
      "25000/25000 [==============================] - 56s 2ms/step - loss: 0.3989 - acc: 0.8204 - val_loss: 0.4001 - val_acc: 0.8195\n",
      "Epoch 4/5\n",
      "25000/25000 [==============================] - 57s 2ms/step - loss: 0.3837 - acc: 0.8300 - val_loss: 0.3931 - val_acc: 0.8206\n",
      "Epoch 5/5\n",
      "25000/25000 [==============================] - 58s 2ms/step - loss: 0.3680 - acc: 0.8360 - val_loss: 0.3869 - val_acc: 0.8224\n",
      "training complete\n",
      "Accuracy: 82.24\n"
     ]
    }
   ],
   "source": [
    "\"\"\"\n",
    "layer의 구성은 \n",
    "- Embedding: 단어를 벡터화하고, 이 결과 값을 LSTM에 집어넣어줌. \n",
    "    - input_dim에 top_words를 넣어주는데, 아마도 내부에서 자동으로 one-hot vector를 만들어주는 것 같음\n",
    "    - 현재는 one-hot vector가 아니라, 0, 1, 등 word vocab의 index가 넘어감. \n",
    "- Conv1D: 구조적인 특성을 파악하기 위해 여러 filter로 찍어줌.\n",
    "- MaxPooling1D: convolution으로 찍어낸 정보를 좀 더 특징화함. \n",
    "- LSTM: sequential한 정보를 활용\n",
    "- Dense: classification이므로 output layer을 1칸짜리로 넣어줌. \n",
    "\"\"\"\n",
    "embedding_vector_length =32\n",
    "model = Sequential([\n",
    "    Embedding(input_dim = top_words, # 500\n",
    "            output_dim = embedding_vector_length, # 32\n",
    "            input_length = max_review_length),\n",
    "    Conv1D(filters = 32, kernel_size = 5,padding='same', activation='relu'),\n",
    "    MaxPooling1D(pool_size = 2),\n",
    "    LSTM(50),\n",
    "    Dropout(0.2),\n",
    "    # 소프트맥스로 하는 것보다는, 0~1 중간값들을 살리기 위해 sigmoid\n",
    "    Dense(25, activation='sigmoid'),\n",
    "    Dense(1, activation = 'sigmoid')\n",
    "])\n",
    "model.compile(loss = 'binary_crossentropy', optimizer = 'adam', \n",
    "              metrics =['accuracy'])\n",
    "print(model.summary)\n",
    "model.fit(X_train, y_train, validation_data=(X_test, y_test), epochs=5, batch_size=64)\n",
    "print(\"training complete\")\n",
    "scores = model.evaluate(X_test, y_test, verbose=0)\n",
    "print(\"Accuracy: {:.2f}\".format(scores[1]*100))"
   ]
  },
  {
   "cell_type": "markdown",
   "metadata": {},
   "source": [
    "sig 한번만\n",
    "\n",
    "Accuracy: 82.35\n",
    "\n",
    "Accuracy: 82.24\n"
   ]
  },
  {
   "cell_type": "code",
   "execution_count": null,
   "metadata": {},
   "outputs": [],
   "source": []
  }
 ],
 "metadata": {
  "kernelspec": {
   "display_name": "jy3.6",
   "language": "python",
   "name": "mypython"
  },
  "language_info": {
   "codemirror_mode": {
    "name": "ipython",
    "version": 3
   },
   "file_extension": ".py",
   "mimetype": "text/x-python",
   "name": "python",
   "nbconvert_exporter": "python",
   "pygments_lexer": "ipython3",
   "version": "3.6.8"
  },
  "widgets": {
   "state": {},
   "version": "1.1.2"
  }
 },
 "nbformat": 4,
 "nbformat_minor": 2
}
