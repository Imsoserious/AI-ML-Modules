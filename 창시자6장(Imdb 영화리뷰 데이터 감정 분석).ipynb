{
 "cells": [
  {
   "cell_type": "code",
   "execution_count": 0,
   "metadata": {
    "colab": {},
    "colab_type": "code",
    "id": "PIvHiK5VPVSA"
   },
   "outputs": [],
   "source": [
    "# 1. 텍스트를 벡터화: '단어->벡터' or '문자->벡터' or '단어,문자->n-gram->벡터'\n"
   ]
  },
  {
   "cell_type": "code",
   "execution_count": 0,
   "metadata": {
    "colab": {},
    "colab_type": "code",
    "id": "1xo6b-QVTPKD"
   },
   "outputs": [],
   "source": [
    "# import cell\n",
    "import numpy as np\n"
   ]
  },
  {
   "cell_type": "code",
   "execution_count": 2,
   "metadata": {
    "colab": {
     "base_uri": "https://localhost:8080/",
     "height": 395
    },
    "colab_type": "code",
    "executionInfo": {
     "elapsed": 1924,
     "status": "ok",
     "timestamp": 1566136846110,
     "user": {
      "displayName": "김진영",
      "photoUrl": "",
      "userId": "16260853236679957923"
     },
     "user_tz": -540
    },
    "id": "wWA9ylQiUJhb",
    "outputId": "563c237e-8d76-483f-b70d-8fb2713e6d57"
   },
   "outputs": [
    {
     "data": {
      "text/plain": [
       "array([[[0., 1., 0., 0., 0., 0., 0., 0., 0., 0.],\n",
       "        [0., 0., 1., 0., 0., 0., 0., 0., 0., 0.],\n",
       "        [0., 0., 0., 1., 0., 0., 0., 0., 0., 0.],\n",
       "        [0., 0., 0., 0., 1., 0., 0., 0., 0., 0.],\n",
       "        [0., 1., 0., 0., 0., 0., 0., 0., 0., 0.],\n",
       "        [0., 0., 0., 0., 0., 1., 0., 0., 0., 0.],\n",
       "        [0., 0., 0., 0., 0., 0., 0., 0., 0., 0.],\n",
       "        [0., 0., 0., 0., 0., 0., 0., 0., 0., 0.],\n",
       "        [0., 0., 0., 0., 0., 0., 0., 0., 0., 0.],\n",
       "        [0., 0., 0., 0., 0., 0., 0., 0., 0., 0.]],\n",
       "\n",
       "       [[0., 1., 0., 0., 0., 0., 0., 0., 0., 0.],\n",
       "        [0., 0., 0., 0., 0., 0., 1., 0., 0., 0.],\n",
       "        [0., 0., 0., 0., 0., 0., 0., 1., 0., 0.],\n",
       "        [0., 0., 0., 0., 0., 0., 0., 0., 1., 0.],\n",
       "        [0., 0., 0., 0., 0., 0., 0., 0., 0., 1.],\n",
       "        [0., 0., 0., 0., 0., 0., 0., 0., 0., 0.],\n",
       "        [0., 0., 0., 0., 0., 0., 0., 0., 0., 0.],\n",
       "        [0., 0., 0., 0., 0., 0., 0., 0., 0., 0.],\n",
       "        [0., 0., 0., 0., 0., 0., 0., 0., 0., 0.],\n",
       "        [0., 0., 0., 0., 0., 0., 0., 0., 0., 0.]]])"
      ]
     },
     "execution_count": 2,
     "metadata": {
      "tags": []
     },
     "output_type": "execute_result"
    }
   ],
   "source": [
    "samples=['the cat sat on the table','the dog ate my homework']\n",
    "token_index = {}\n",
    "for sample in samples:\n",
    "  for word in sample.split():\n",
    "    if word not in token_index:\n",
    "      token_index[word] = 1 + len(token_index)\n",
    "\n",
    "max_length = 10\n",
    "results = np.zeros(shape=(len(samples), max_length, max(token_index.values())+1))\n",
    "for i, sample in enumerate(samples):\n",
    "  for j, word in list(enumerate(sample.split())):\n",
    "    index = token_index[word]\n",
    "    results[i,j,index]= 1\n",
    "    \n",
    "results"
   ]
  },
  {
   "cell_type": "code",
   "execution_count": 0,
   "metadata": {
    "colab": {
     "base_uri": "https://localhost:8080/",
     "height": 122
    },
    "colab_type": "code",
    "executionInfo": {
     "elapsed": 986,
     "status": "ok",
     "timestamp": 1563951372882,
     "user": {
      "displayName": "김진영",
      "photoUrl": "",
      "userId": "16260853236679957923"
     },
     "user_tz": -540
    },
    "id": "GVx2htOIUQFc",
    "outputId": "b7230823-4b15-4535-a0c5-3a23487b5dcf"
   },
   "outputs": [
    {
     "data": {
      "text/plain": [
       "array([0., 0., 0., 0., 0., 0., 0., 0., 0., 0., 0., 0., 0., 0., 0., 0., 0.,\n",
       "       0., 0., 0., 0., 0., 0., 0., 0., 0., 0., 0., 0., 0., 1., 0., 0., 0.,\n",
       "       0., 0., 0., 0., 0., 0., 0., 0., 0., 0., 0., 0., 0., 0., 0., 0., 0.,\n",
       "       0., 0., 0., 0., 0., 0., 0., 0., 0., 0., 0., 0., 0., 0., 0., 0., 0.,\n",
       "       0., 0., 0., 0., 0., 0., 0., 0., 0., 0., 0., 0., 0., 0., 0., 0., 0.,\n",
       "       0., 0., 0., 0., 0., 0., 0., 0., 0., 0., 0., 0., 0., 0., 0., 0.])"
      ]
     },
     "execution_count": 20,
     "metadata": {
      "tags": []
     },
     "output_type": "execute_result"
    }
   ],
   "source": [
    "import string\n",
    "\n",
    "samples=['the cat sat on the table','the dog ate my homework']\n",
    "characters = string.printable # 출력 가능한 모든 아스키 문자\n",
    "token_index = dict( zip(characters, range(1,len(characters) + 1)) ) # zip: (문자,숫자)..\n",
    "max_length = 50\n",
    "results = np.zeros(shape=(len(samples), max_length, max(token_index.values())+1))\n",
    "for i, sample in enumerate(samples):\n",
    "  for j, character in enumerate(sample): # string을 for문 돌리면 문자 하나씩 읽음\n",
    "    index = token_index.get(character)\n",
    "    results[i,j,index]=1\n",
    "results[0][0]"
   ]
  },
  {
   "cell_type": "code",
   "execution_count": 0,
   "metadata": {
    "colab": {
     "base_uri": "https://localhost:8080/",
     "height": 52
    },
    "colab_type": "code",
    "executionInfo": {
     "elapsed": 1019,
     "status": "ok",
     "timestamp": 1564048579507,
     "user": {
      "displayName": "김진영",
      "photoUrl": "",
      "userId": "16260853236679957923"
     },
     "user_tz": -540
    },
    "id": "HUV-1cSGu8I6",
    "outputId": "29270781-48a6-4853-8d45-d8b0591fc237"
   },
   "outputs": [
    {
     "name": "stderr",
     "output_type": "stream",
     "text": [
      "Using TensorFlow backend.\n"
     ]
    },
    {
     "data": {
      "text/plain": [
       "[[1, 2, 3, 4, 1, 5], [1, 6, 7, 8, 9]]"
      ]
     },
     "execution_count": 5,
     "metadata": {
      "tags": []
     },
     "output_type": "execute_result"
    }
   ],
   "source": [
    "from keras.preprocessing.text import Tokenizer\n",
    "\n",
    "samples=['the cat sat on the table','the dog ate my homework']\n",
    "\n",
    "tokenizer = Tokenizer(num_words=10) # 빈도 순위 1~1000등만 선택하는 객체\n",
    "\n",
    "tokenizer.fit_on_texts(samples) # 샘플의 단어 인덱스 생성\n",
    "\n",
    "# sequences, one_hot_results, word_index는 모두 fit 이후 생성 가능한 독립된 객체\n",
    "sequences = tokenizer.texts_to_sequences(samples) # 인덱스 부여한 리스트 : [[1, 2, 3, 4, 1, 5], [1, 6, 7, 8, 9]]\n",
    "one_hot_results = tokenizer.texts_to_matrix(samples, mode= 'binary') # 벡터로, 0,1이니까 binary\n",
    "#array([[0., 1., 1., ..., 0., 0., 0.],\n",
    "#       [0., 1., 0., ..., 0., 0., 0.]]) , shape= (2, 1000): 문장 2개에, 빈도 세는 단어 제한 1000\n",
    "word_index = tokenizer.word_index # 계산된 단어 인덱스 구하기= token_index\n",
    "sequences"
   ]
  },
  {
   "cell_type": "code",
   "execution_count": 0,
   "metadata": {
    "colab": {
     "base_uri": "https://localhost:8080/",
     "height": 52
    },
    "colab_type": "code",
    "executionInfo": {
     "elapsed": 725,
     "status": "ok",
     "timestamp": 1563952661844,
     "user": {
      "displayName": "김진영",
      "photoUrl": "",
      "userId": "16260853236679957923"
     },
     "user_tz": -540
    },
    "id": "lvy-_eMSy4Vb",
    "outputId": "db65e677-049f-4ab5-e33a-1f9724f8e2a0"
   },
   "outputs": [
    {
     "data": {
      "text/plain": [
       "array([[0., 1., 1., 1., 1., 1., 0., 0., 0., 0., 0.],\n",
       "       [0., 1., 0., 0., 0., 0., 1., 1., 1., 1., 0.]])"
      ]
     },
     "execution_count": 29,
     "metadata": {
      "tags": []
     },
     "output_type": "execute_result"
    }
   ],
   "source": [
    "from keras.preprocessing.text import Tokenizer\n",
    "samples=['the cat sat on the table','the dog ate my homework']\n",
    "tokenizer = Tokenizer(num_words=11)\n",
    "tokenizer.fit_on_texts(samples)\n",
    "one_hot_results = tokenizer.texts_to_matrix(samples, mode='binary')\n",
    "word_index = tokenizer.word_index\n",
    "one_hot_results"
   ]
  },
  {
   "cell_type": "code",
   "execution_count": 0,
   "metadata": {
    "colab": {
     "base_uri": "https://localhost:8080/",
     "height": 34
    },
    "colab_type": "code",
    "executionInfo": {
     "elapsed": 779,
     "status": "ok",
     "timestamp": 1563954593956,
     "user": {
      "displayName": "김진영",
      "photoUrl": "",
      "userId": "16260853236679957923"
     },
     "user_tz": -540
    },
    "id": "s9DQQ9vNzFuI",
    "outputId": "c99d673e-9b21-45bc-aac3-e997cde89f71"
   },
   "outputs": [
    {
     "data": {
      "text/plain": [
       "(2, 10, 1000)"
      ]
     },
     "execution_count": 35,
     "metadata": {
      "tags": []
     },
     "output_type": "execute_result"
    }
   ],
   "source": [
    "samples=['the cat sat on the table','the dog ate my homework']\n",
    "dimension = 1000\n",
    "max_length = 10\n",
    "\n",
    "results = np.zeros(shape=(len(samples), max_length, dimension))\n",
    "for i, sample in enumerate(samples):\n",
    "  for j, word in list(enumerate(sample.split())):\n",
    "    index = abs(hash(word)) % dimension\n",
    "    results[i,j,index] = 1\n",
    "results.shape"
   ]
  },
  {
   "cell_type": "code",
   "execution_count": 3,
   "metadata": {
    "colab": {
     "base_uri": "https://localhost:8080/",
     "height": 71
    },
    "colab_type": "code",
    "executionInfo": {
     "elapsed": 10503,
     "status": "ok",
     "timestamp": 1566136874462,
     "user": {
      "displayName": "김진영",
      "photoUrl": "",
      "userId": "16260853236679957923"
     },
     "user_tz": -540
    },
    "id": "y5vo_dkS3VkL",
    "outputId": "735fecc4-6cbd-45fc-9b35-ee73b1e7e8b4"
   },
   "outputs": [
    {
     "name": "stderr",
     "output_type": "stream",
     "text": [
      "Using TensorFlow backend.\n"
     ]
    },
    {
     "name": "stdout",
     "output_type": "stream",
     "text": [
      "Downloading data from https://s3.amazonaws.com/text-datasets/imdb.npz\n",
      "17465344/17464789 [==============================] - 0s 0us/step\n"
     ]
    }
   ],
   "source": [
    "# imdb 로드\n",
    "from keras.datasets import imdb\n",
    "from keras import preprocessing\n",
    "\n",
    "max_features = 10000 # 특성으로 활용할 단어의 수\n",
    "maxlen = 500 # 리뷰당 단어 20개까지만 적용\n",
    "batch_size = 32\n",
    "# save np.load\n",
    "np_load_old = np.load\n",
    "\n",
    "# modify the default parameters of np.load\n",
    "np.load = lambda *a,**k: np_load_old(*a, allow_pickle=True, **k)\n",
    "(x_train, y_train), (x_test, y_test) = imdb.load_data(num_words=max_features) # 리뷰의 개수는 각각 25000개\n",
    "np.load = np_load_old\n",
    "\n",
    "x_train = preprocessing.sequence.pad_sequences(x_train, maxlen= maxlen) # (25000,20) 크기의 2d 텐서로 변환\n",
    "x_test = preprocessing.sequence.pad_sequences(x_test, maxlen=maxlen) # pad니까 20보다 짧은 건 0 채우고, 긴 건 짜름."
   ]
  },
  {
   "cell_type": "code",
   "execution_count": 0,
   "metadata": {
    "colab": {},
    "colab_type": "code",
    "id": "RxOXSmuqEdr6"
   },
   "outputs": [],
   "source": [
    "from google.colab import drive\n",
    "drive.mount('/content/drive')"
   ]
  },
  {
   "cell_type": "code",
   "execution_count": 7,
   "metadata": {
    "colab": {
     "base_uri": "https://localhost:8080/",
     "height": 35
    },
    "colab_type": "code",
    "executionInfo": {
     "elapsed": 776,
     "status": "ok",
     "timestamp": 1566137771778,
     "user": {
      "displayName": "김진영",
      "photoUrl": "",
      "userId": "16260853236679957923"
     },
     "user_tz": -540
    },
    "id": "AZci7EItLEyT",
    "outputId": "e7cc6454-0f48-437c-d3a8-e71ebdea1056"
   },
   "outputs": [
    {
     "data": {
      "text/plain": [
       "(500,)"
      ]
     },
     "execution_count": 7,
     "metadata": {
      "tags": []
     },
     "output_type": "execute_result"
    }
   ],
   "source": [
    "x_train[1].shape"
   ]
  },
  {
   "cell_type": "code",
   "execution_count": 0,
   "metadata": {
    "colab": {
     "base_uri": "https://localhost:8080/",
     "height": 917
    },
    "colab_type": "code",
    "executionInfo": {
     "elapsed": 13279,
     "status": "ok",
     "timestamp": 1564015493817,
     "user": {
      "displayName": "김진영",
      "photoUrl": "",
      "userId": "16260853236679957923"
     },
     "user_tz": -540
    },
    "id": "KGKN9ckJKiYg",
    "outputId": "80e85335-01df-4356-be88-47058dd06e1c"
   },
   "outputs": [
    {
     "name": "stderr",
     "output_type": "stream",
     "text": [
      "WARNING: Logging before flag parsing goes to stderr.\n",
      "W0725 00:44:40.065824 140375197316992 deprecation_wrapper.py:119] From /usr/local/lib/python3.6/dist-packages/keras/backend/tensorflow_backend.py:74: The name tf.get_default_graph is deprecated. Please use tf.compat.v1.get_default_graph instead.\n",
      "\n",
      "W0725 00:44:40.101914 140375197316992 deprecation_wrapper.py:119] From /usr/local/lib/python3.6/dist-packages/keras/backend/tensorflow_backend.py:517: The name tf.placeholder is deprecated. Please use tf.compat.v1.placeholder instead.\n",
      "\n",
      "W0725 00:44:40.114119 140375197316992 deprecation_wrapper.py:119] From /usr/local/lib/python3.6/dist-packages/keras/backend/tensorflow_backend.py:4138: The name tf.random_uniform is deprecated. Please use tf.random.uniform instead.\n",
      "\n",
      "W0725 00:44:40.157303 140375197316992 deprecation_wrapper.py:119] From /usr/local/lib/python3.6/dist-packages/keras/optimizers.py:790: The name tf.train.Optimizer is deprecated. Please use tf.compat.v1.train.Optimizer instead.\n",
      "\n",
      "W0725 00:44:40.176779 140375197316992 deprecation_wrapper.py:119] From /usr/local/lib/python3.6/dist-packages/keras/backend/tensorflow_backend.py:3376: The name tf.log is deprecated. Please use tf.math.log instead.\n",
      "\n",
      "W0725 00:44:40.183715 140375197316992 deprecation.py:323] From /usr/local/lib/python3.6/dist-packages/tensorflow/python/ops/nn_impl.py:180: add_dispatch_support.<locals>.wrapper (from tensorflow.python.ops.array_ops) is deprecated and will be removed in a future version.\n",
      "Instructions for updating:\n",
      "Use tf.where in 2.0, which has the same broadcast rule as np.where\n"
     ]
    },
    {
     "name": "stdout",
     "output_type": "stream",
     "text": [
      "_________________________________________________________________\n",
      "Layer (type)                 Output Shape              Param #   \n",
      "=================================================================\n",
      "embedding_1 (Embedding)      (None, 20, 8)             80000     \n",
      "_________________________________________________________________\n",
      "flatten_1 (Flatten)          (None, 160)               0         \n",
      "_________________________________________________________________\n",
      "dense_1 (Dense)              (None, 1)                 161       \n",
      "=================================================================\n",
      "Total params: 80,161\n",
      "Trainable params: 80,161\n",
      "Non-trainable params: 0\n",
      "_________________________________________________________________\n"
     ]
    },
    {
     "name": "stderr",
     "output_type": "stream",
     "text": [
      "W0725 00:44:40.414236 140375197316992 deprecation_wrapper.py:119] From /usr/local/lib/python3.6/dist-packages/keras/backend/tensorflow_backend.py:986: The name tf.assign_add is deprecated. Please use tf.compat.v1.assign_add instead.\n",
      "\n"
     ]
    },
    {
     "name": "stdout",
     "output_type": "stream",
     "text": [
      "Train on 20000 samples, validate on 5000 samples\n",
      "Epoch 1/10\n",
      "20000/20000 [==============================] - 2s 90us/step - loss: 0.6759 - acc: 0.6050 - val_loss: 0.6398 - val_acc: 0.6814\n",
      "Epoch 2/10\n",
      "20000/20000 [==============================] - 1s 58us/step - loss: 0.5657 - acc: 0.7427 - val_loss: 0.5467 - val_acc: 0.7206\n",
      "Epoch 3/10\n",
      "20000/20000 [==============================] - 1s 59us/step - loss: 0.4752 - acc: 0.7808 - val_loss: 0.5113 - val_acc: 0.7384\n",
      "Epoch 4/10\n",
      "20000/20000 [==============================] - 1s 58us/step - loss: 0.4263 - acc: 0.8077 - val_loss: 0.5008 - val_acc: 0.7452\n",
      "Epoch 5/10\n",
      "20000/20000 [==============================] - 1s 59us/step - loss: 0.3930 - acc: 0.8258 - val_loss: 0.4981 - val_acc: 0.7538\n",
      "Epoch 6/10\n",
      "20000/20000 [==============================] - 1s 58us/step - loss: 0.3668 - acc: 0.8395 - val_loss: 0.5014 - val_acc: 0.7530\n",
      "Epoch 7/10\n",
      "20000/20000 [==============================] - 1s 58us/step - loss: 0.3435 - acc: 0.8533 - val_loss: 0.5052 - val_acc: 0.7520\n",
      "Epoch 8/10\n",
      "20000/20000 [==============================] - 1s 59us/step - loss: 0.3223 - acc: 0.8657 - val_loss: 0.5132 - val_acc: 0.7486\n",
      "Epoch 9/10\n",
      "20000/20000 [==============================] - 1s 59us/step - loss: 0.3022 - acc: 0.8766 - val_loss: 0.5213 - val_acc: 0.7490\n",
      "Epoch 10/10\n",
      "20000/20000 [==============================] - 1s 57us/step - loss: 0.2839 - acc: 0.8860 - val_loss: 0.5303 - val_acc: 0.7466\n"
     ]
    }
   ],
   "source": [
    "# embedding층 추가 \n",
    "from keras.models import Sequential\n",
    "from keras.layers import Flatten, Dense, Embedding\n",
    "\n",
    "model = Sequential()\n",
    "# 20개씩*32배치사이즈 인풋 들어감, 20000 문장이 한 에폭\n",
    "model.add(Embedding(10000, 8, input_length= maxlen)) # (input 벡터 크기=단어사전 크기, output 차원, 문장길이)\n",
    "\n",
    "model.add(Flatten()) # fc에 넣기 위해 펼치기\n",
    "# 20*8=160개로 펼침\n",
    "\n",
    "# 배치사이즈 32이므로 32개가 나옴\n",
    "model.add(Dense(1, activation = 'sigmoid'))\n",
    "#  160개의 값이 하나의 값으로 나와서 시그모이드 통과\n",
    "\n",
    "model.compile(optimizer= 'rmsprop', loss= 'binary_crossentropy', metrics=['acc'])\n",
    "model.summary()\n",
    "\n",
    "histrory = model.fit(x_train, y_train, epochs = 10, batch_size= 32, validation_split= 0.2)\n",
    "\n",
    "# "
   ]
  },
  {
   "cell_type": "code",
   "execution_count": 0,
   "metadata": {
    "colab": {
     "base_uri": "https://localhost:8080/",
     "height": 369
    },
    "colab_type": "code",
    "executionInfo": {
     "elapsed": 787,
     "status": "ok",
     "timestamp": 1564015550892,
     "user": {
      "displayName": "김진영",
      "photoUrl": "",
      "userId": "16260853236679957923"
     },
     "user_tz": -540
    },
    "id": "JT5ql-iNuaL1",
    "outputId": "d25a0098-d1f5-4f9f-80ed-efe87095449c"
   },
   "outputs": [
    {
     "data": {
      "text/plain": [
       "array([[0.16790888],\n",
       "       [0.85968304],\n",
       "       [0.4607514 ],\n",
       "       [0.71543556],\n",
       "       [0.9823751 ],\n",
       "       [0.07163067],\n",
       "       [0.454907  ],\n",
       "       [0.07571591],\n",
       "       [0.22845569],\n",
       "       [0.6964383 ],\n",
       "       [0.72699445],\n",
       "       [0.06678399],\n",
       "       [0.03369612],\n",
       "       [0.05324942],\n",
       "       [0.88962173],\n",
       "       [0.0905143 ],\n",
       "       [0.92562145],\n",
       "       [0.3501876 ],\n",
       "       [0.00786606],\n",
       "       [0.10715367]], dtype=float32)"
      ]
     },
     "execution_count": 9,
     "metadata": {
      "tags": []
     },
     "output_type": "execute_result"
    }
   ],
   "source": [
    "a=x_test[0:20]\n",
    "\n",
    "model.predict(a,batch_size=1)"
   ]
  },
  {
   "cell_type": "code",
   "execution_count": 0,
   "metadata": {
    "colab": {
     "base_uri": "https://localhost:8080/",
     "height": 239
    },
    "colab_type": "code",
    "executionInfo": {
     "elapsed": 810,
     "status": "error",
     "timestamp": 1564017319734,
     "user": {
      "displayName": "김진영",
      "photoUrl": "",
      "userId": "16260853236679957923"
     },
     "user_tz": -540
    },
    "id": "7lwWWFD4TTmp",
    "outputId": "16b032be-20c3-4911-dca2-d6381740c2fc"
   },
   "outputs": [
    {
     "ename": "FileNotFoundError",
     "evalue": "ignored",
     "output_type": "error",
     "traceback": [
      "\u001b[0;31m---------------------------------------------------------------------------\u001b[0m",
      "\u001b[0;31mFileNotFoundError\u001b[0m                         Traceback (most recent call last)",
      "\u001b[0;32m<ipython-input-12-f8ca85313c7a>\u001b[0m in \u001b[0;36m<module>\u001b[0;34m()\u001b[0m\n\u001b[1;32m      9\u001b[0m \u001b[0;32mfor\u001b[0m \u001b[0mlabel_type\u001b[0m \u001b[0;32min\u001b[0m \u001b[0;34m[\u001b[0m\u001b[0;34m'neg'\u001b[0m\u001b[0;34m,\u001b[0m \u001b[0;34m'pos'\u001b[0m\u001b[0;34m]\u001b[0m\u001b[0;34m:\u001b[0m\u001b[0;34m\u001b[0m\u001b[0;34m\u001b[0m\u001b[0m\n\u001b[1;32m     10\u001b[0m     \u001b[0mdir_name\u001b[0m \u001b[0;34m=\u001b[0m \u001b[0mos\u001b[0m\u001b[0;34m.\u001b[0m\u001b[0mpath\u001b[0m\u001b[0;34m.\u001b[0m\u001b[0mjoin\u001b[0m\u001b[0;34m(\u001b[0m\u001b[0mtrain_dir\u001b[0m\u001b[0;34m,\u001b[0m \u001b[0mlabel_type\u001b[0m\u001b[0;34m)\u001b[0m\u001b[0;34m\u001b[0m\u001b[0;34m\u001b[0m\u001b[0m\n\u001b[0;32m---> 11\u001b[0;31m     \u001b[0;32mfor\u001b[0m \u001b[0mfname\u001b[0m \u001b[0;32min\u001b[0m \u001b[0mos\u001b[0m\u001b[0;34m.\u001b[0m\u001b[0mlistdir\u001b[0m\u001b[0;34m(\u001b[0m\u001b[0mdir_name\u001b[0m\u001b[0;34m)\u001b[0m\u001b[0;34m:\u001b[0m\u001b[0;34m\u001b[0m\u001b[0;34m\u001b[0m\u001b[0m\n\u001b[0m\u001b[1;32m     12\u001b[0m         \u001b[0;32mif\u001b[0m \u001b[0mfname\u001b[0m\u001b[0;34m[\u001b[0m\u001b[0;34m-\u001b[0m\u001b[0;36m4\u001b[0m\u001b[0;34m:\u001b[0m\u001b[0;34m]\u001b[0m \u001b[0;34m==\u001b[0m \u001b[0;34m'.txt'\u001b[0m\u001b[0;34m:\u001b[0m\u001b[0;34m\u001b[0m\u001b[0;34m\u001b[0m\u001b[0m\n\u001b[1;32m     13\u001b[0m             \u001b[0mf\u001b[0m \u001b[0;34m=\u001b[0m \u001b[0mopen\u001b[0m\u001b[0;34m(\u001b[0m\u001b[0mos\u001b[0m\u001b[0;34m.\u001b[0m\u001b[0mpath\u001b[0m\u001b[0;34m.\u001b[0m\u001b[0mjoin\u001b[0m\u001b[0;34m(\u001b[0m\u001b[0mdir_name\u001b[0m\u001b[0;34m,\u001b[0m \u001b[0mfname\u001b[0m\u001b[0;34m)\u001b[0m\u001b[0;34m,\u001b[0m \u001b[0mencoding\u001b[0m\u001b[0;34m=\u001b[0m\u001b[0;34m'utf8'\u001b[0m\u001b[0;34m)\u001b[0m\u001b[0;34m\u001b[0m\u001b[0;34m\u001b[0m\u001b[0m\n",
      "\u001b[0;31mFileNotFoundError\u001b[0m: [Errno 2] No such file or directory: './aclImdb/train/neg'"
     ]
    }
   ],
   "source": [
    "import os\n",
    "\n",
    "imdb_dir ='./aclImdb'\n",
    "train_dir = os.path.join(imdb_dir, 'train')\n",
    "\n",
    "labels = []\n",
    "texts = []\n",
    "\n",
    "for label_type in ['neg', 'pos']:\n",
    "    dir_name = os.path.join(train_dir, label_type)\n",
    "    for fname in os.listdir(dir_name):\n",
    "        if fname[-4:] == '.txt':\n",
    "            f = open(os.path.join(dir_name, fname), encoding='utf8')\n",
    "            texts.append(f.read())\n",
    "            f.close()\n",
    "            if label_type == 'neg':\n",
    "                labels.append(0)\n",
    "            else:\n",
    "                labels.append(1)"
   ]
  },
  {
   "cell_type": "code",
   "execution_count": 0,
   "metadata": {
    "colab": {
     "base_uri": "https://localhost:8080/",
     "height": 52
    },
    "colab_type": "code",
    "executionInfo": {
     "elapsed": 777,
     "status": "ok",
     "timestamp": 1563967488110,
     "user": {
      "displayName": "김진영",
      "photoUrl": "",
      "userId": "16260853236679957923"
     },
     "user_tz": -540
    },
    "id": "6Mu2CWrpof2N",
    "outputId": "d1173b2f-c318-4aab-8f71-7bf8849fe136"
   },
   "outputs": [
    {
     "data": {
      "text/plain": [
       "array([  10,   10,  472,   45,   55,  878,    8,  169,   11,  374, 5687,\n",
       "         25,  203,   28,    8,  818,   12,  125,    4, 3077], dtype=int32)"
      ]
     },
     "execution_count": 54,
     "metadata": {
      "tags": []
     },
     "output_type": "execute_result"
    }
   ],
   "source": [
    "x_test[1]"
   ]
  },
  {
   "cell_type": "code",
   "execution_count": 0,
   "metadata": {
    "colab": {},
    "colab_type": "code",
    "id": "mo-712M1lghB"
   },
   "outputs": [],
   "source": [
    "# imdb 로드\n",
    "from keras.datasets import imdb\n",
    "from keras import preprocessing\n",
    "\n",
    "max_features = 10000 # 특성으로 활용할 단어의 수\n",
    "maxlen = 500 # 리뷰당 단어 500개까지만 적용\n",
    "batch_size = 32\n",
    "# save np.load\n",
    "np_load_old = np.load\n",
    "\n",
    "# modify the default parameters of np.load\n",
    "np.load = lambda *a,**k: np_load_old(*a, allow_pickle=True, **k)\n",
    "(x_train, y_train), (x_test, y_test) = imdb.load_data(num_words=max_features) # 리뷰의 개수는 각각 25000개\n",
    "np.load = np_load_old\n",
    "\n",
    "x_train = preprocessing.sequence.pad_sequences(x_train, maxlen= maxlen) # (25000,20) 크기의 2d 텐서로 변환\n",
    "x_test = preprocessing.sequence.pad_sequences(x_test, maxlen=maxlen) # pad"
   ]
  },
  {
   "cell_type": "code",
   "execution_count": 0,
   "metadata": {
    "colab": {
     "base_uri": "https://localhost:8080/",
     "height": 635
    },
    "colab_type": "code",
    "executionInfo": {
     "elapsed": 747813,
     "status": "ok",
     "timestamp": 1564050757197,
     "user": {
      "displayName": "김진영",
      "photoUrl": "",
      "userId": "16260853236679957923"
     },
     "user_tz": -540
    },
    "id": "-z2cDPGwmpSg",
    "outputId": "f9404eb5-cf8c-4dad-aef5-67819e5e2a24"
   },
   "outputs": [
    {
     "name": "stderr",
     "output_type": "stream",
     "text": [
      "W0725 10:20:08.889055 140691633436544 deprecation_wrapper.py:119] From /usr/local/lib/python3.6/dist-packages/keras/backend/tensorflow_backend.py:517: The name tf.placeholder is deprecated. Please use tf.compat.v1.placeholder instead.\n",
      "\n",
      "W0725 10:20:08.896676 140691633436544 deprecation_wrapper.py:119] From /usr/local/lib/python3.6/dist-packages/keras/backend/tensorflow_backend.py:4138: The name tf.random_uniform is deprecated. Please use tf.random.uniform instead.\n",
      "\n",
      "W0725 10:20:09.138820 140691633436544 deprecation_wrapper.py:119] From /usr/local/lib/python3.6/dist-packages/keras/optimizers.py:790: The name tf.train.Optimizer is deprecated. Please use tf.compat.v1.train.Optimizer instead.\n",
      "\n",
      "W0725 10:20:09.159893 140691633436544 deprecation_wrapper.py:119] From /usr/local/lib/python3.6/dist-packages/keras/backend/tensorflow_backend.py:3376: The name tf.log is deprecated. Please use tf.math.log instead.\n",
      "\n",
      "W0725 10:20:09.167356 140691633436544 deprecation.py:323] From /usr/local/lib/python3.6/dist-packages/tensorflow/python/ops/nn_impl.py:180: add_dispatch_support.<locals>.wrapper (from tensorflow.python.ops.array_ops) is deprecated and will be removed in a future version.\n",
      "Instructions for updating:\n",
      "Use tf.where in 2.0, which has the same broadcast rule as np.where\n",
      "W0725 10:20:10.125809 140691633436544 deprecation_wrapper.py:119] From /usr/local/lib/python3.6/dist-packages/keras/backend/tensorflow_backend.py:986: The name tf.assign_add is deprecated. Please use tf.compat.v1.assign_add instead.\n",
      "\n"
     ]
    },
    {
     "name": "stdout",
     "output_type": "stream",
     "text": [
      "Train on 20000 samples, validate on 5000 samples\n",
      "Epoch 1/10\n",
      "20000/20000 [==============================] - 74s 4ms/step - loss: 0.4963 - acc: 0.7693 - val_loss: 0.3480 - val_acc: 0.8592\n",
      "Epoch 2/10\n",
      "20000/20000 [==============================] - 75s 4ms/step - loss: 0.2920 - acc: 0.8863 - val_loss: 0.3090 - val_acc: 0.8666\n",
      "Epoch 3/10\n",
      "20000/20000 [==============================] - 75s 4ms/step - loss: 0.2365 - acc: 0.9104 - val_loss: 0.3059 - val_acc: 0.8722\n",
      "Epoch 4/10\n",
      "20000/20000 [==============================] - 74s 4ms/step - loss: 0.2012 - acc: 0.9248 - val_loss: 0.3248 - val_acc: 0.8576\n",
      "Epoch 5/10\n",
      "20000/20000 [==============================] - 74s 4ms/step - loss: 0.1740 - acc: 0.9358 - val_loss: 0.2916 - val_acc: 0.8834\n",
      "Epoch 6/10\n",
      "20000/20000 [==============================] - 74s 4ms/step - loss: 0.1591 - acc: 0.9438 - val_loss: 0.3100 - val_acc: 0.8686\n",
      "Epoch 7/10\n",
      "20000/20000 [==============================] - 75s 4ms/step - loss: 0.1409 - acc: 0.9507 - val_loss: 0.4936 - val_acc: 0.8114\n",
      "Epoch 8/10\n",
      "20000/20000 [==============================] - 76s 4ms/step - loss: 0.1347 - acc: 0.9527 - val_loss: 0.4933 - val_acc: 0.8536\n",
      "Epoch 9/10\n",
      "20000/20000 [==============================] - 74s 4ms/step - loss: 0.1243 - acc: 0.9561 - val_loss: 0.4207 - val_acc: 0.8426\n",
      "Epoch 10/10\n",
      "20000/20000 [==============================] - 75s 4ms/step - loss: 0.1132 - acc: 0.9616 - val_loss: 0.3663 - val_acc: 0.8824\n"
     ]
    }
   ],
   "source": [
    "from keras.layers import LSTM, Embedding\n",
    "from keras.preprocessing import sequence\n",
    "from keras.layers import Dense\n",
    "import matplotlib.pyplot as plt\n",
    "from keras.models import Sequential\n",
    "\n",
    "model = Sequential()\n",
    "model.add(Embedding(max_features,32)) # 토큰 개수 10000개, 32차원(특성) 아웃풋\n",
    "model.add(LSTM(32))\n",
    "model.add(Dense(1 ,activation='sigmoid'))\n",
    "\n",
    "model.compile(optimizer='rmsprop', loss = 'binary_crossentropy', metrics=['acc'])\n",
    "history= model.fit(x_train, y_train, epochs=10, batch_size= 128, validation_split=0.2)\n"
   ]
  },
  {
   "cell_type": "code",
   "execution_count": 0,
   "metadata": {
    "colab": {},
    "colab_type": "code",
    "id": "By7URnZYpAGt"
   },
   "outputs": [],
   "source": [
    "model.summary()"
   ]
  },
  {
   "cell_type": "code",
   "execution_count": 0,
   "metadata": {
    "colab": {
     "base_uri": "https://localhost:8080/",
     "height": 545
    },
    "colab_type": "code",
    "executionInfo": {
     "elapsed": 1411,
     "status": "ok",
     "timestamp": 1564051026810,
     "user": {
      "displayName": "김진영",
      "photoUrl": "",
      "userId": "16260853236679957923"
     },
     "user_tz": -540
    },
    "id": "jix_H4t9sUq6",
    "outputId": "badfec74-21e7-4868-a78d-58ddff573653"
   },
   "outputs": [
    {
     "data": {
      "image/png": "[encoded data removed]",
      "text/plain": [
       "<Figure size 432x288 with 1 Axes>"
      ]
     },
     "metadata": {
      "tags": []
     },
     "output_type": "display_data"
    },
    {
     "data": {
      "image/png": "[encoded data removed]",
      "text/plain": [
       "<Figure size 432x288 with 1 Axes>"
      ]
     },
     "metadata": {
      "tags": []
     },
     "output_type": "display_data"
    }
   ],
   "source": [
    "acc = history.history['acc']\n",
    "val_acc = history.history['val_acc']\n",
    "loss = history.history['loss']\n",
    "val_loss = history.history['val_loss']\n",
    "\n",
    "epochs = range(1, len(acc) + 1)\n",
    "\n",
    "plt.plot(epochs, acc, 'bo', label='Training acc')\n",
    "plt.plot(epochs, val_acc, 'b', label='Validation acc')\n",
    "plt.title('Training and validation accuracy')\n",
    "plt.legend()\n",
    "\n",
    "plt.figure()\n",
    "\n",
    "plt.plot(epochs, loss, 'bo', label='Training loss')\n",
    "plt.plot(epochs, val_loss, 'b', label='Validation loss')\n",
    "plt.title('Training and validation loss')\n",
    "plt.legend()\n",
    "\n",
    "plt.show()"
   ]
  },
  {
   "cell_type": "code",
   "execution_count": 0,
   "metadata": {
    "colab": {},
    "colab_type": "code",
    "id": "n2b078GpsX02"
   },
   "outputs": [],
   "source": []
  },
  {
   "cell_type": "code",
   "execution_count": 0,
   "metadata": {
    "colab": {},
    "colab_type": "code",
    "id": "SD03rxwnsrPY"
   },
   "outputs": [],
   "source": []
  }
 ],
 "metadata": {
  "colab": {
   "name": "창시자6장.ipynb",
   "provenance": [],
   "version": "0.3.2"
  },
  "kernelspec": {
   "display_name": "Python 3",
   "language": "python",
   "name": "python3"
  },
  "language_info": {
   "codemirror_mode": {
    "name": "ipython",
    "version": 3
   },
   "file_extension": ".py",
   "mimetype": "text/x-python",
   "name": "python",
   "nbconvert_exporter": "python",
   "pygments_lexer": "ipython3",
   "version": "3.6.8"
  }
 },
 "nbformat": 4,
 "nbformat_minor": 1
}
