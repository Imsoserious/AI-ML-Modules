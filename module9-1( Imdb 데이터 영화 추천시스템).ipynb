{
 "cells": [
  {
   "cell_type": "code",
   "execution_count": 1,
   "metadata": {},
   "outputs": [],
   "source": [
    "import pandas as pd"
   ]
  },
  {
   "cell_type": "code",
   "execution_count": 2,
   "metadata": {},
   "outputs": [],
   "source": [
    "imdb = pd.read_csv('./IMDB-Movie-Data.csv')"
   ]
  },
  {
   "cell_type": "code",
   "execution_count": 26,
   "metadata": {},
   "outputs": [
    {
     "data": {
      "text/plain": [
       "'Following clues to the origin of mankind, a team finds a structure on a distant moon, but they soon realize they are not alone.'"
      ]
     },
     "execution_count": 26,
     "metadata": {},
     "output_type": "execute_result"
    }
   ],
   "source": [
    "imdb['Description'][1]"
   ]
  },
  {
   "cell_type": "code",
   "execution_count": 4,
   "metadata": {},
   "outputs": [
    {
     "data": {
      "text/html": [
       "<div>\n",
       "<style scoped>\n",
       "    .dataframe tbody tr th:only-of-type {\n",
       "        vertical-align: middle;\n",
       "    }\n",
       "\n",
       "    .dataframe tbody tr th {\n",
       "        vertical-align: top;\n",
       "    }\n",
       "\n",
       "    .dataframe thead th {\n",
       "        text-align: right;\n",
       "    }\n",
       "</style>\n",
       "<table border=\"1\" class=\"dataframe\">\n",
       "  <thead>\n",
       "    <tr style=\"text-align: right;\">\n",
       "      <th></th>\n",
       "      <th>count</th>\n",
       "      <th>mean</th>\n",
       "      <th>std</th>\n",
       "      <th>min</th>\n",
       "      <th>25%</th>\n",
       "      <th>50%</th>\n",
       "      <th>75%</th>\n",
       "      <th>max</th>\n",
       "    </tr>\n",
       "  </thead>\n",
       "  <tbody>\n",
       "    <tr>\n",
       "      <th>Rank</th>\n",
       "      <td>1000.0</td>\n",
       "      <td>500.500000</td>\n",
       "      <td>288.819436</td>\n",
       "      <td>1.0</td>\n",
       "      <td>250.75</td>\n",
       "      <td>500.500</td>\n",
       "      <td>750.250</td>\n",
       "      <td>1000.00</td>\n",
       "    </tr>\n",
       "    <tr>\n",
       "      <th>Year</th>\n",
       "      <td>1000.0</td>\n",
       "      <td>2012.783000</td>\n",
       "      <td>3.205962</td>\n",
       "      <td>2006.0</td>\n",
       "      <td>2010.00</td>\n",
       "      <td>2014.000</td>\n",
       "      <td>2016.000</td>\n",
       "      <td>2016.00</td>\n",
       "    </tr>\n",
       "    <tr>\n",
       "      <th>Runtime (Minutes)</th>\n",
       "      <td>1000.0</td>\n",
       "      <td>113.172000</td>\n",
       "      <td>18.810908</td>\n",
       "      <td>66.0</td>\n",
       "      <td>100.00</td>\n",
       "      <td>111.000</td>\n",
       "      <td>123.000</td>\n",
       "      <td>191.00</td>\n",
       "    </tr>\n",
       "    <tr>\n",
       "      <th>Rating</th>\n",
       "      <td>1000.0</td>\n",
       "      <td>6.723200</td>\n",
       "      <td>0.945429</td>\n",
       "      <td>1.9</td>\n",
       "      <td>6.20</td>\n",
       "      <td>6.800</td>\n",
       "      <td>7.400</td>\n",
       "      <td>9.00</td>\n",
       "    </tr>\n",
       "    <tr>\n",
       "      <th>Votes</th>\n",
       "      <td>1000.0</td>\n",
       "      <td>169808.255000</td>\n",
       "      <td>188762.647518</td>\n",
       "      <td>61.0</td>\n",
       "      <td>36309.00</td>\n",
       "      <td>110799.000</td>\n",
       "      <td>239909.750</td>\n",
       "      <td>1791916.00</td>\n",
       "    </tr>\n",
       "    <tr>\n",
       "      <th>Revenue (Millions)</th>\n",
       "      <td>872.0</td>\n",
       "      <td>82.956376</td>\n",
       "      <td>103.253540</td>\n",
       "      <td>0.0</td>\n",
       "      <td>13.27</td>\n",
       "      <td>47.985</td>\n",
       "      <td>113.715</td>\n",
       "      <td>936.63</td>\n",
       "    </tr>\n",
       "    <tr>\n",
       "      <th>Metascore</th>\n",
       "      <td>936.0</td>\n",
       "      <td>58.985043</td>\n",
       "      <td>17.194757</td>\n",
       "      <td>11.0</td>\n",
       "      <td>47.00</td>\n",
       "      <td>59.500</td>\n",
       "      <td>72.000</td>\n",
       "      <td>100.00</td>\n",
       "    </tr>\n",
       "  </tbody>\n",
       "</table>\n",
       "</div>"
      ],
      "text/plain": [
       "                     count           mean            std     min       25%  \\\n",
       "Rank                1000.0     500.500000     288.819436     1.0    250.75   \n",
       "Year                1000.0    2012.783000       3.205962  2006.0   2010.00   \n",
       "Runtime (Minutes)   1000.0     113.172000      18.810908    66.0    100.00   \n",
       "Rating              1000.0       6.723200       0.945429     1.9      6.20   \n",
       "Votes               1000.0  169808.255000  188762.647518    61.0  36309.00   \n",
       "Revenue (Millions)   872.0      82.956376     103.253540     0.0     13.27   \n",
       "Metascore            936.0      58.985043      17.194757    11.0     47.00   \n",
       "\n",
       "                           50%         75%         max  \n",
       "Rank                   500.500     750.250     1000.00  \n",
       "Year                  2014.000    2016.000     2016.00  \n",
       "Runtime (Minutes)      111.000     123.000      191.00  \n",
       "Rating                   6.800       7.400        9.00  \n",
       "Votes               110799.000  239909.750  1791916.00  \n",
       "Revenue (Millions)      47.985     113.715      936.63  \n",
       "Metascore               59.500      72.000      100.00  "
      ]
     },
     "execution_count": 4,
     "metadata": {},
     "output_type": "execute_result"
    }
   ],
   "source": [
    "imdb.describe().T"
   ]
  },
  {
   "cell_type": "code",
   "execution_count": 5,
   "metadata": {},
   "outputs": [
    {
     "name": "stdout",
     "output_type": "stream",
     "text": [
      "<class 'pandas.core.frame.DataFrame'>\n",
      "RangeIndex: 1000 entries, 0 to 999\n",
      "Data columns (total 12 columns):\n",
      "Rank                  1000 non-null int64\n",
      "Title                 1000 non-null object\n",
      "Genre                 1000 non-null object\n",
      "Description           1000 non-null object\n",
      "Director              1000 non-null object\n",
      "Actors                1000 non-null object\n",
      "Year                  1000 non-null int64\n",
      "Runtime (Minutes)     1000 non-null int64\n",
      "Rating                1000 non-null float64\n",
      "Votes                 1000 non-null int64\n",
      "Revenue (Millions)    872 non-null float64\n",
      "Metascore             936 non-null float64\n",
      "dtypes: float64(3), int64(4), object(5)\n",
      "memory usage: 93.8+ KB\n"
     ]
    }
   ],
   "source": [
    "imdb.info()"
   ]
  },
  {
   "cell_type": "code",
   "execution_count": 6,
   "metadata": {},
   "outputs": [],
   "source": [
    "C=imdb['Rating'].mean()"
   ]
  },
  {
   "cell_type": "code",
   "execution_count": 7,
   "metadata": {},
   "outputs": [],
   "source": [
    "m = imdb['Votes'].quantile(0.9)"
   ]
  },
  {
   "cell_type": "code",
   "execution_count": 8,
   "metadata": {},
   "outputs": [
    {
     "data": {
      "text/plain": [
       "(100, 12)"
      ]
     },
     "execution_count": 8,
     "metadata": {},
     "output_type": "execute_result"
    }
   ],
   "source": [
    "q_moives = imdb.copy().loc[imdb['Votes']>=m]\n",
    "q_moives.shape"
   ]
  },
  {
   "cell_type": "code",
   "execution_count": 9,
   "metadata": {},
   "outputs": [],
   "source": [
    "# 영화 평점 기준 함수\n",
    "def WR(x, m=m, C=C):\n",
    "    v = x['Votes']\n",
    "    R = x['Rating']\n",
    "    return (v / (v+m)*R) + (m / (m+v)*C)"
   ]
  },
  {
   "cell_type": "code",
   "execution_count": 10,
   "metadata": {},
   "outputs": [],
   "source": [
    "# 함수 적용할 때는 apply\n",
    "imdb['Score'] = imdb.apply(WR, axis=1)"
   ]
  },
  {
   "cell_type": "code",
   "execution_count": 12,
   "metadata": {
    "collapsed": true
   },
   "outputs": [
    {
     "data": {
      "text/plain": [
       "0      8.1\n",
       "1      7.0\n",
       "2      7.3\n",
       "3      7.2\n",
       "4      6.2\n",
       "5      6.1\n",
       "6      8.3\n",
       "7      6.4\n",
       "8      7.1\n",
       "9      7.0\n",
       "10     7.5\n",
       "11     7.8\n",
       "12     7.9\n",
       "13     7.7\n",
       "14     6.4\n",
       "15     6.6\n",
       "16     8.2\n",
       "17     6.7\n",
       "18     8.1\n",
       "19     8.0\n",
       "20     6.7\n",
       "21     7.9\n",
       "22     6.7\n",
       "23     6.5\n",
       "24     5.3\n",
       "25     6.8\n",
       "26     8.3\n",
       "27     4.7\n",
       "28     6.2\n",
       "29     5.9\n",
       "      ... \n",
       "970    4.8\n",
       "971    6.9\n",
       "972    5.9\n",
       "973    6.2\n",
       "974    7.4\n",
       "975    6.0\n",
       "976    6.2\n",
       "977    5.0\n",
       "978    7.0\n",
       "979    7.6\n",
       "980    7.0\n",
       "981    5.3\n",
       "982    7.4\n",
       "983    6.5\n",
       "984    6.8\n",
       "985    5.6\n",
       "986    5.9\n",
       "987    6.3\n",
       "988    7.1\n",
       "989    7.5\n",
       "990    6.6\n",
       "991    8.5\n",
       "992    6.3\n",
       "993    5.9\n",
       "994    6.7\n",
       "995    6.2\n",
       "996    5.5\n",
       "997    6.2\n",
       "998    5.6\n",
       "999    5.3\n",
       "Name: Rating, Length: 1000, dtype: float64"
      ]
     },
     "execution_count": 12,
     "metadata": {},
     "output_type": "execute_result"
    }
   ],
   "source": [
    "imdb['Rating']"
   ]
  },
  {
   "cell_type": "code",
   "execution_count": 13,
   "metadata": {},
   "outputs": [
    {
     "data": {
      "text/plain": [
       "Index(['Rank', 'Title', 'Genre', 'Description', 'Director', 'Actors', 'Year',\n",
       "       'Runtime (Minutes)', 'Rating', 'Votes', 'Revenue (Millions)',\n",
       "       'Metascore', 'Score'],\n",
       "      dtype='object')"
      ]
     },
     "execution_count": 13,
     "metadata": {},
     "output_type": "execute_result"
    }
   ],
   "source": [
    "imdb.columns"
   ]
  },
  {
   "cell_type": "code",
   "execution_count": 14,
   "metadata": {},
   "outputs": [],
   "source": [
    "col = ['Title', 'Rank' , 'Votes', 'Score']\n",
    "rs_original = imdb.sort_values('Rating', ascending=False)[col]\n",
    "rs_new = imdb.sort_values('Score', ascending=False)[col]"
   ]
  },
  {
   "cell_type": "code",
   "execution_count": 16,
   "metadata": {},
   "outputs": [
    {
     "data": {
      "text/html": [
       "<div>\n",
       "<style scoped>\n",
       "    .dataframe tbody tr th:only-of-type {\n",
       "        vertical-align: middle;\n",
       "    }\n",
       "\n",
       "    .dataframe tbody tr th {\n",
       "        vertical-align: top;\n",
       "    }\n",
       "\n",
       "    .dataframe thead th {\n",
       "        text-align: right;\n",
       "    }\n",
       "</style>\n",
       "<table border=\"1\" class=\"dataframe\">\n",
       "  <thead>\n",
       "    <tr style=\"text-align: right;\">\n",
       "      <th></th>\n",
       "      <th>Title</th>\n",
       "      <th>Rank</th>\n",
       "      <th>Votes</th>\n",
       "      <th>Score</th>\n",
       "    </tr>\n",
       "  </thead>\n",
       "  <tbody>\n",
       "    <tr>\n",
       "      <th>54</th>\n",
       "      <td>The Dark Knight</td>\n",
       "      <td>55</td>\n",
       "      <td>1791916</td>\n",
       "      <td>8.579216</td>\n",
       "    </tr>\n",
       "    <tr>\n",
       "      <th>80</th>\n",
       "      <td>Inception</td>\n",
       "      <td>81</td>\n",
       "      <td>1583625</td>\n",
       "      <td>8.376003</td>\n",
       "    </tr>\n",
       "    <tr>\n",
       "      <th>36</th>\n",
       "      <td>Interstellar</td>\n",
       "      <td>37</td>\n",
       "      <td>1047747</td>\n",
       "      <td>8.075617</td>\n",
       "    </tr>\n",
       "    <tr>\n",
       "      <th>124</th>\n",
       "      <td>The Dark Knight Rises</td>\n",
       "      <td>125</td>\n",
       "      <td>1222645</td>\n",
       "      <td>8.056861</td>\n",
       "    </tr>\n",
       "    <tr>\n",
       "      <th>99</th>\n",
       "      <td>The Departed</td>\n",
       "      <td>100</td>\n",
       "      <td>937414</td>\n",
       "      <td>7.962793</td>\n",
       "    </tr>\n",
       "  </tbody>\n",
       "</table>\n",
       "</div>"
      ],
      "text/plain": [
       "                     Title  Rank    Votes     Score\n",
       "54         The Dark Knight    55  1791916  8.579216\n",
       "80               Inception    81  1583625  8.376003\n",
       "36            Interstellar    37  1047747  8.075617\n",
       "124  The Dark Knight Rises   125  1222645  8.056861\n",
       "99            The Departed   100   937414  7.962793"
      ]
     },
     "execution_count": 16,
     "metadata": {},
     "output_type": "execute_result"
    }
   ],
   "source": [
    "rs_new.head()"
   ]
  },
  {
   "cell_type": "code",
   "execution_count": 17,
   "metadata": {},
   "outputs": [
    {
     "data": {
      "text/plain": [
       "0    A group of intergalactic criminals are forced ...\n",
       "1    Following clues to the origin of mankind, a te...\n",
       "2    Three girls are kidnapped by a man with a diag...\n",
       "3    In a city of humanoid animals, a hustling thea...\n",
       "4    A secret government agency recruits some of th...\n",
       "Name: Description, dtype: object"
      ]
     },
     "execution_count": 17,
     "metadata": {},
     "output_type": "execute_result"
    }
   ],
   "source": [
    "imdb['Description'].head()"
   ]
  },
  {
   "cell_type": "code",
   "execution_count": 18,
   "metadata": {},
   "outputs": [
    {
     "data": {
      "text/plain": [
       "(1000, 5667)"
      ]
     },
     "execution_count": 18,
     "metadata": {},
     "output_type": "execute_result"
    }
   ],
   "source": [
    "from sklearn.feature_extraction.text import TfidfVectorizer\n",
    "#TF-IDF는 정보 검색과 텍스트 마이닝에서 이용하는 가중치로, \n",
    "#여러 문서로 이루어진 문서군이 있을 때 어떤 단어가 특정 문서 내에서 얼마나 중요한 것인지를 나타내는 통계적 수치이다. \n",
    "#문서의 핵심어를 추출하거나, 검색 엔진에서 검색 결과의 순위를 결정하거나, \n",
    "#문서들 사이의 비슷한 정도를 구하는 등의 용도로 사용할 수 있다.\n",
    "tfidf = TfidfVectorizer(stop_words='english')\n",
    "imdb.Description = imdb.Description.fillna('')\n",
    "tfidf_matrix = tfidf.fit_transform(imdb.Description)\n",
    "tfidf_matrix.shape"
   ]
  },
  {
   "cell_type": "code",
   "execution_count": 19,
   "metadata": {},
   "outputs": [],
   "source": [
    "from sklearn.metrics.pairwise import linear_kernel\n",
    "cosine_sim = linear_kernel(tfidf_matrix, tfidf_matrix) # 문장들 사이의 유사도를 description으로 구하기"
   ]
  },
  {
   "cell_type": "code",
   "execution_count": 23,
   "metadata": {},
   "outputs": [],
   "source": [
    "#1.  영화 제목을 인덱스화\n",
    "indices = pd.Series(imdb.index, index = imdb['Title']).drop_duplicates()\n",
    "#2. 인덱스를 기준으로 유사도 추출\n",
    "def rs(title, n=10, sim = cosine_sim):\n",
    "    idx = indices[title]\n",
    "    sim_score = list(enumerate(cosine_sim[idx]))\n",
    "    sim_score = sorted(sim_score, key=lambda x: x[1], reverse=True)\n",
    "    sim_score = sim_score[1:(n+1)]\n",
    "    movie_index = [i[0] for i in sim_score]\n",
    "    return imdb.Title.iloc[movie_index]"
   ]
  },
  {
   "cell_type": "code",
   "execution_count": 24,
   "metadata": {},
   "outputs": [
    {
     "data": {
      "text/plain": [
       "54              The Dark Knight\n",
       "144            Django Unchained\n",
       "522                      Viking\n",
       "471            Marie Antoinette\n",
       "254               The Conjuring\n",
       "920                   Centurion\n",
       "253    The Amazing Spider-Man 2\n",
       "604       The Rise of the Krays\n",
       "615                Bastille Day\n",
       "915                     Goksung\n",
       "Name: Title, dtype: object"
      ]
     },
     "execution_count": 24,
     "metadata": {},
     "output_type": "execute_result"
    }
   ],
   "source": [
    "rs('The Dark Knight Rises')"
   ]
  }
 ],
 "metadata": {
  "kernelspec": {
   "display_name": "jy3.6",
   "language": "python",
   "name": "mypython"
  },
  "language_info": {
   "codemirror_mode": {
    "name": "ipython",
    "version": 3
   },
   "file_extension": ".py",
   "mimetype": "text/x-python",
   "name": "python",
   "nbconvert_exporter": "python",
   "pygments_lexer": "ipython3",
   "version": "3.6.8"
  },
  "widgets": {
   "state": {},
   "version": "1.1.2"
  }
 },
 "nbformat": 4,
 "nbformat_minor": 2
}
